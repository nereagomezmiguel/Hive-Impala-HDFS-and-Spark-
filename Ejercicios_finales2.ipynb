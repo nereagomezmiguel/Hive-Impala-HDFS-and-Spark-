{
 "cells": [
  {
   "cell_type": "code",
   "execution_count": 0,
   "metadata": {
    "application/vnd.databricks.v1+cell": {
     "inputWidgets": {},
     "nuid": "143b3bfa-76b6-4224-b930-614163edb85b",
     "showTitle": false,
     "title": ""
    }
   },
   "outputs": [
    {
     "data": {
      "text/html": [
       "<style scoped>\n",
       "  .ansiout {\n",
       "    display: block;\n",
       "    unicode-bidi: embed;\n",
       "    white-space: pre-wrap;\n",
       "    word-wrap: break-word;\n",
       "    word-break: break-all;\n",
       "    font-family: \"Source Code Pro\", \"Menlo\", monospace;;\n",
       "    font-size: 13px;\n",
       "    color: #555;\n",
       "    margin-left: 4px;\n",
       "    line-height: 19px;\n",
       "  }\n",
       "</style>\n",
       "<div class=\"ansiout\"></div>"
      ]
     },
     "metadata": {
      "application/vnd.databricks.v1+output": {
       "addedWidgets": {},
       "arguments": {},
       "data": "<div class=\"ansiout\"></div>",
       "datasetInfos": [],
       "metadata": {},
       "removedWidgets": [],
       "type": "html"
      }
     },
     "output_type": "display_data"
    }
   ],
   "source": [
    "from pyspark.sql import SparkSession"
   ]
  },
  {
   "cell_type": "code",
   "execution_count": 0,
   "metadata": {
    "application/vnd.databricks.v1+cell": {
     "inputWidgets": {},
     "nuid": "b710ac85-4304-4ee1-b723-beac06218258",
     "showTitle": false,
     "title": ""
    }
   },
   "outputs": [
    {
     "data": {
      "text/html": [
       "<style scoped>\n",
       "  .ansiout {\n",
       "    display: block;\n",
       "    unicode-bidi: embed;\n",
       "    white-space: pre-wrap;\n",
       "    word-wrap: break-word;\n",
       "    word-break: break-all;\n",
       "    font-family: \"Source Code Pro\", \"Menlo\", monospace;;\n",
       "    font-size: 13px;\n",
       "    color: #555;\n",
       "    margin-left: 4px;\n",
       "    line-height: 19px;\n",
       "  }\n",
       "</style>\n",
       "<div class=\"ansiout\"></div>"
      ]
     },
     "metadata": {
      "application/vnd.databricks.v1+output": {
       "addedWidgets": {},
       "arguments": {},
       "data": "<div class=\"ansiout\"></div>",
       "datasetInfos": [],
       "metadata": {},
       "removedWidgets": [],
       "type": "html"
      }
     },
     "output_type": "display_data"
    }
   ],
   "source": [
    "spark =(SparkSession\n",
    "        .builder\n",
    "        .appName(\"Padron\")\n",
    "        .getOrCreate())"
   ]
  },
  {
   "cell_type": "code",
   "execution_count": 0,
   "metadata": {
    "application/vnd.databricks.v1+cell": {
     "inputWidgets": {},
     "nuid": "d87be7aa-2361-45f3-a52a-db4528e25161",
     "showTitle": false,
     "title": ""
    }
   },
   "outputs": [
    {
     "data": {
      "text/html": [
       "<style scoped>\n",
       "  .ansiout {\n",
       "    display: block;\n",
       "    unicode-bidi: embed;\n",
       "    white-space: pre-wrap;\n",
       "    word-wrap: break-word;\n",
       "    word-break: break-all;\n",
       "    font-family: \"Source Code Pro\", \"Menlo\", monospace;;\n",
       "    font-size: 13px;\n",
       "    color: #555;\n",
       "    margin-left: 4px;\n",
       "    line-height: 19px;\n",
       "  }\n",
       "</style>\n",
       "<div class=\"ansiout\"></div>"
      ]
     },
     "metadata": {
      "application/vnd.databricks.v1+output": {
       "addedWidgets": {},
       "arguments": {},
       "data": "<div class=\"ansiout\"></div>",
       "datasetInfos": [],
       "metadata": {},
       "removedWidgets": [],
       "type": "html"
      }
     },
     "output_type": "display_data"
    }
   ],
   "source": [
    "## 6.1) Comenzamos realizando la misma práctica que hicimos en Hive en Spark, importando el csv. Sería recomendable intentarlo con opciones que quiten las \"\" de los campos, que ignoren los espacios innecesarios en los campos, que sustituyan los valores vacíos por 0 y que infiera el esquema.##"
   ]
  },
  {
   "cell_type": "code",
   "execution_count": 0,
   "metadata": {
    "application/vnd.databricks.v1+cell": {
     "inputWidgets": {},
     "nuid": "23b3094b-c03f-47d2-8afa-e884a7027583",
     "showTitle": false,
     "title": ""
    }
   },
   "outputs": [
    {
     "data": {
      "text/html": [
       "<style scoped>\n",
       "  .ansiout {\n",
       "    display: block;\n",
       "    unicode-bidi: embed;\n",
       "    white-space: pre-wrap;\n",
       "    word-wrap: break-word;\n",
       "    word-break: break-all;\n",
       "    font-family: \"Source Code Pro\", \"Menlo\", monospace;;\n",
       "    font-size: 13px;\n",
       "    color: #555;\n",
       "    margin-left: 4px;\n",
       "    line-height: 19px;\n",
       "  }\n",
       "</style>\n",
       "<div class=\"ansiout\"></div>"
      ]
     },
     "metadata": {
      "application/vnd.databricks.v1+output": {
       "addedWidgets": {},
       "arguments": {},
       "data": "<div class=\"ansiout\"></div>",
       "datasetInfos": [],
       "metadata": {},
       "removedWidgets": [],
       "type": "html"
      }
     },
     "output_type": "display_data"
    }
   ],
   "source": [
    "df = spark.read\\\n",
    "           .option(\"header\", \"true\")\\\n",
    "           .option(\"inferSchema\", \"true\")\\\n",
    "           .option(\"delimiter\", \";\")\\\n",
    "           .option(\"mode\", \"PERMISSION\")\\\n",
    "           .option(\"emptyValue\", 0)\\\n",
    "           .csv(\"dbfs:/FileStore/shared_uploads/nerea.gomez@bosonit.com/Rango_Edades_Seccion_202106-3.csv\",\n",
    "               encoding=\"UTF-8\",\n",
    "               ignoreLeadingWhiteSpace=True,\n",
    "               ignoreTrailingWhiteSpace=True,\n",
    "               quote='\"',\n",
    "               escape='\"')"
   ]
  },
  {
   "cell_type": "code",
   "execution_count": 0,
   "metadata": {
    "application/vnd.databricks.v1+cell": {
     "inputWidgets": {},
     "nuid": "adf7eec7-c4c5-46f7-a09e-e78ef5215ecc",
     "showTitle": false,
     "title": "6.1) Comenzamos realizando la misma práctica que hicimos en Hive en Spark, importando el  csv. Sería recomendable intentarlo con opciones que quiten las \"\" de los campos, que  ignoren los espacios innecesarios en los campos, que sustituyan los valores vacíos por 0 y  que infiera el esquema."
    }
   },
   "outputs": [
    {
     "data": {
      "text/html": [
       "<style scoped>\n",
       "  .ansiout {\n",
       "    display: block;\n",
       "    unicode-bidi: embed;\n",
       "    white-space: pre-wrap;\n",
       "    word-wrap: break-word;\n",
       "    word-break: break-all;\n",
       "    font-family: \"Source Code Pro\", \"Menlo\", monospace;;\n",
       "    font-size: 13px;\n",
       "    color: #555;\n",
       "    margin-left: 4px;\n",
       "    line-height: 19px;\n",
       "  }\n",
       "</style>\n",
       "<div class=\"ansiout\">+------------+--------------------+---------------+--------------------+----------+----------------+-----------+------------+----------------+----------------+------------------+------------------+\n",
       "COD_DISTRITO|       DESC_DISTRITO|COD_DIST_BARRIO|         DESC_BARRIO|COD_BARRIO|COD_DIST_SECCION|COD_SECCION|COD_EDAD_INT|EspanolesHombres|EspanolesMujeres|ExtranjerosHombres|ExtranjerosMujeres|\n",
       "+------------+--------------------+---------------+--------------------+----------+----------------+-----------+------------+----------------+----------------+------------------+------------------+\n",
       "           1|CENTRO              |            101|PALACIO             |         1|            1006|          6|         100|               0|               1|                 0|                 0|\n",
       "           1|CENTRO              |            101|PALACIO             |         1|            1006|          6|         103|               0|               1|                 0|                 0|\n",
       "           1|CENTRO              |            101|PALACIO             |         1|            1007|          7|           0|               3|               1|                 0|                 0|\n",
       "           1|CENTRO              |            101|PALACIO             |         1|            1007|          7|           1|               1|               1|                 0|                 1|\n",
       "           1|CENTRO              |            101|PALACIO             |         1|            1007|          7|           2|               1|               3|                 0|                 0|\n",
       "           1|CENTRO              |            101|PALACIO             |         1|            1007|          7|           3|               4|               2|                 0|                 0|\n",
       "           1|CENTRO              |            101|PALACIO             |         1|            1007|          7|           4|               1|               1|                 0|                 0|\n",
       "           1|CENTRO              |            101|PALACIO             |         1|            1007|          7|           5|               1|               3|                 0|                 1|\n",
       "           1|CENTRO              |            101|PALACIO             |         1|            1007|          7|           6|               1|               4|                 0|                 0|\n",
       "           1|CENTRO              |            101|PALACIO             |         1|            1007|          7|           7|               3|               2|                 0|                 0|\n",
       "           1|CENTRO              |            101|PALACIO             |         1|            1007|          7|           8|               3|               2|                 0|                 0|\n",
       "           1|CENTRO              |            101|PALACIO             |         1|            1007|          7|           9|               3|               1|                 0|                 0|\n",
       "           1|CENTRO              |            101|PALACIO             |         1|            1007|          7|          10|               2|               3|                 1|                 0|\n",
       "           1|CENTRO              |            101|PALACIO             |         1|            1007|          7|          11|               4|               2|                 0|                 0|\n",
       "           1|CENTRO              |            101|PALACIO             |         1|            1007|          7|          12|               3|               1|                 0|                 0|\n",
       "           1|CENTRO              |            101|PALACIO             |         1|            1007|          7|          13|               1|               3|                 0|                 0|\n",
       "           1|CENTRO              |            101|PALACIO             |         1|            1007|          7|          14|               4|               1|                 0|                 0|\n",
       "           1|CENTRO              |            101|PALACIO             |         1|            1007|          7|          15|               2|               1|                 0|                 0|\n",
       "           1|CENTRO              |            101|PALACIO             |         1|            1007|          7|          16|               0|               2|                 1|                 0|\n",
       "           1|CENTRO              |            101|PALACIO             |         1|            1007|          7|          17|               4|               2|                 0|                 0|\n",
       "+------------+--------------------+---------------+--------------------+----------+----------------+-----------+------------+----------------+----------------+------------------+------------------+\n",
       "only showing top 20 rows\n",
       "\n",
       "</div>"
      ]
     },
     "metadata": {
      "application/vnd.databricks.v1+output": {
       "addedWidgets": {},
       "arguments": {},
       "data": "<div class=\"ansiout\">+------------+--------------------+---------------+--------------------+----------+----------------+-----------+------------+----------------+----------------+------------------+------------------+\n|COD_DISTRITO|       DESC_DISTRITO|COD_DIST_BARRIO|         DESC_BARRIO|COD_BARRIO|COD_DIST_SECCION|COD_SECCION|COD_EDAD_INT|EspanolesHombres|EspanolesMujeres|ExtranjerosHombres|ExtranjerosMujeres|\n+------------+--------------------+---------------+--------------------+----------+----------------+-----------+------------+----------------+----------------+------------------+------------------+\n|           1|CENTRO              |            101|PALACIO             |         1|            1006|          6|         100|               0|               1|                 0|                 0|\n|           1|CENTRO              |            101|PALACIO             |         1|            1006|          6|         103|               0|               1|                 0|                 0|\n|           1|CENTRO              |            101|PALACIO             |         1|            1007|          7|           0|               3|               1|                 0|                 0|\n|           1|CENTRO              |            101|PALACIO             |         1|            1007|          7|           1|               1|               1|                 0|                 1|\n|           1|CENTRO              |            101|PALACIO             |         1|            1007|          7|           2|               1|               3|                 0|                 0|\n|           1|CENTRO              |            101|PALACIO             |         1|            1007|          7|           3|               4|               2|                 0|                 0|\n|           1|CENTRO              |            101|PALACIO             |         1|            1007|          7|           4|               1|               1|                 0|                 0|\n|           1|CENTRO              |            101|PALACIO             |         1|            1007|          7|           5|               1|               3|                 0|                 1|\n|           1|CENTRO              |            101|PALACIO             |         1|            1007|          7|           6|               1|               4|                 0|                 0|\n|           1|CENTRO              |            101|PALACIO             |         1|            1007|          7|           7|               3|               2|                 0|                 0|\n|           1|CENTRO              |            101|PALACIO             |         1|            1007|          7|           8|               3|               2|                 0|                 0|\n|           1|CENTRO              |            101|PALACIO             |         1|            1007|          7|           9|               3|               1|                 0|                 0|\n|           1|CENTRO              |            101|PALACIO             |         1|            1007|          7|          10|               2|               3|                 1|                 0|\n|           1|CENTRO              |            101|PALACIO             |         1|            1007|          7|          11|               4|               2|                 0|                 0|\n|           1|CENTRO              |            101|PALACIO             |         1|            1007|          7|          12|               3|               1|                 0|                 0|\n|           1|CENTRO              |            101|PALACIO             |         1|            1007|          7|          13|               1|               3|                 0|                 0|\n|           1|CENTRO              |            101|PALACIO             |         1|            1007|          7|          14|               4|               1|                 0|                 0|\n|           1|CENTRO              |            101|PALACIO             |         1|            1007|          7|          15|               2|               1|                 0|                 0|\n|           1|CENTRO              |            101|PALACIO             |         1|            1007|          7|          16|               0|               2|                 1|                 0|\n|           1|CENTRO              |            101|PALACIO             |         1|            1007|          7|          17|               4|               2|                 0|                 0|\n+------------+--------------------+---------------+--------------------+----------+----------------+-----------+------------+----------------+----------------+------------------+------------------+\nonly showing top 20 rows\n\n</div>",
       "datasetInfos": [],
       "metadata": {},
       "removedWidgets": [],
       "type": "html"
      }
     },
     "output_type": "display_data"
    }
   ],
   "source": [
    "##REVISAR##\n",
    "df = spark.read.format(\"csv\")\\\n",
    "          .option(\"inferSchema\", True)\\\n",
    "          .option(\"header\", True)\\\n",
    "          .option(\"emptyValue\", \"0\")\\\n",
    "          .option(\"quote\", \"\\\"\")\\\n",
    "          .option(\"escape\", \"\\\"\")\\\n",
    "          .option(\"ignoreLeadingWhiteSpace\", True)\\\n",
    "          .option(\"ignoreTrailingWhiteSpace\", True)\\\n",
    "          .option(\"sep\", \";\")\\\n",
    "          .option(\"encoding\", \"ISO-8859-1\")\\\n",
    "          .load(\"dbfs:/FileStore/shared_uploads/nerea.gomez@bosonit.com/Rango_Edades_Seccion_202106-3.csv\")\n",
    "\n",
    "df.show()"
   ]
  },
  {
   "cell_type": "code",
   "execution_count": 0,
   "metadata": {
    "application/vnd.databricks.v1+cell": {
     "inputWidgets": {},
     "nuid": "2711f338-ebbe-4b9e-999d-260db94cc3f7",
     "showTitle": false,
     "title": ""
    }
   },
   "outputs": [
    {
     "data": {
      "text/html": [
       "<style scoped>\n",
       "  .ansiout {\n",
       "    display: block;\n",
       "    unicode-bidi: embed;\n",
       "    white-space: pre-wrap;\n",
       "    word-wrap: break-word;\n",
       "    word-break: break-all;\n",
       "    font-family: \"Source Code Pro\", \"Menlo\", monospace;;\n",
       "    font-size: 13px;\n",
       "    color: #555;\n",
       "    margin-left: 4px;\n",
       "    line-height: 19px;\n",
       "  }\n",
       "</style>\n",
       "<div class=\"ansiout\"></div>"
      ]
     },
     "metadata": {
      "application/vnd.databricks.v1+output": {
       "addedWidgets": {},
       "arguments": {},
       "data": "<div class=\"ansiout\"></div>",
       "datasetInfos": [],
       "metadata": {},
       "removedWidgets": [],
       "type": "html"
      }
     },
     "output_type": "display_data"
    }
   ],
   "source": [
    "##  6.2) De manera alternativa también se puede importar el csv con menos tratamiento en la importación y hacer todas las modificaciones para alcanzar el mismo estado de limpieza de los datos con funciones de Spark."
   ]
  },
  {
   "cell_type": "code",
   "execution_count": 0,
   "metadata": {
    "application/vnd.databricks.v1+cell": {
     "inputWidgets": {},
     "nuid": "358c45c1-bb5d-4266-b200-f05b73e8cda4",
     "showTitle": false,
     "title": ""
    }
   },
   "outputs": [
    {
     "data": {
      "text/html": [
       "<style scoped>\n",
       "  .ansiout {\n",
       "    display: block;\n",
       "    unicode-bidi: embed;\n",
       "    white-space: pre-wrap;\n",
       "    word-wrap: break-word;\n",
       "    word-break: break-all;\n",
       "    font-family: \"Source Code Pro\", \"Menlo\", monospace;;\n",
       "    font-size: 13px;\n",
       "    color: #555;\n",
       "    margin-left: 4px;\n",
       "    line-height: 19px;\n",
       "  }\n",
       "</style>\n",
       "<div class=\"ansiout\">+------------+--------------------+---------------+--------------------+----------+----------------+-----------+------------+----------------+----------------+------------------+------------------+\n",
       "COD_DISTRITO|       DESC_DISTRITO|COD_DIST_BARRIO|         DESC_BARRIO|COD_BARRIO|COD_DIST_SECCION|COD_SECCION|COD_EDAD_INT|EspanolesHombres|EspanolesMujeres|ExtranjerosHombres|ExtranjerosMujeres|\n",
       "+------------+--------------------+---------------+--------------------+----------+----------------+-----------+------------+----------------+----------------+------------------+------------------+\n",
       "           1|CENTRO              |            101|PALACIO             |         1|            1006|          6|         100|            null|               1|              null|              null|\n",
       "           1|CENTRO              |            101|PALACIO             |         1|            1006|          6|         103|            null|               1|              null|              null|\n",
       "           1|CENTRO              |            101|PALACIO             |         1|            1007|          7|           0|               3|               1|              null|              null|\n",
       "           1|CENTRO              |            101|PALACIO             |         1|            1007|          7|           1|               1|               1|              null|                 1|\n",
       "           1|CENTRO              |            101|PALACIO             |         1|            1007|          7|           2|               1|               3|              null|              null|\n",
       "           1|CENTRO              |            101|PALACIO             |         1|            1007|          7|           3|               4|               2|              null|              null|\n",
       "           1|CENTRO              |            101|PALACIO             |         1|            1007|          7|           4|               1|               1|              null|              null|\n",
       "           1|CENTRO              |            101|PALACIO             |         1|            1007|          7|           5|               1|               3|              null|                 1|\n",
       "           1|CENTRO              |            101|PALACIO             |         1|            1007|          7|           6|               1|               4|              null|              null|\n",
       "           1|CENTRO              |            101|PALACIO             |         1|            1007|          7|           7|               3|               2|              null|              null|\n",
       "           1|CENTRO              |            101|PALACIO             |         1|            1007|          7|           8|               3|               2|              null|              null|\n",
       "           1|CENTRO              |            101|PALACIO             |         1|            1007|          7|           9|               3|               1|              null|              null|\n",
       "           1|CENTRO              |            101|PALACIO             |         1|            1007|          7|          10|               2|               3|                 1|              null|\n",
       "           1|CENTRO              |            101|PALACIO             |         1|            1007|          7|          11|               4|               2|              null|              null|\n",
       "           1|CENTRO              |            101|PALACIO             |         1|            1007|          7|          12|               3|               1|              null|              null|\n",
       "           1|CENTRO              |            101|PALACIO             |         1|            1007|          7|          13|               1|               3|              null|              null|\n",
       "           1|CENTRO              |            101|PALACIO             |         1|            1007|          7|          14|               4|               1|              null|              null|\n",
       "           1|CENTRO              |            101|PALACIO             |         1|            1007|          7|          15|               2|               1|              null|              null|\n",
       "           1|CENTRO              |            101|PALACIO             |         1|            1007|          7|          16|            null|               2|                 1|              null|\n",
       "           1|CENTRO              |            101|PALACIO             |         1|            1007|          7|          17|               4|               2|              null|              null|\n",
       "+------------+--------------------+---------------+--------------------+----------+----------------+-----------+------------+----------------+----------------+------------------+------------------+\n",
       "only showing top 20 rows\n",
       "\n",
       "</div>"
      ]
     },
     "metadata": {
      "application/vnd.databricks.v1+output": {
       "addedWidgets": {},
       "arguments": {},
       "data": "<div class=\"ansiout\">+------------+--------------------+---------------+--------------------+----------+----------------+-----------+------------+----------------+----------------+------------------+------------------+\n|COD_DISTRITO|       DESC_DISTRITO|COD_DIST_BARRIO|         DESC_BARRIO|COD_BARRIO|COD_DIST_SECCION|COD_SECCION|COD_EDAD_INT|EspanolesHombres|EspanolesMujeres|ExtranjerosHombres|ExtranjerosMujeres|\n+------------+--------------------+---------------+--------------------+----------+----------------+-----------+------------+----------------+----------------+------------------+------------------+\n|           1|CENTRO              |            101|PALACIO             |         1|            1006|          6|         100|            null|               1|              null|              null|\n|           1|CENTRO              |            101|PALACIO             |         1|            1006|          6|         103|            null|               1|              null|              null|\n|           1|CENTRO              |            101|PALACIO             |         1|            1007|          7|           0|               3|               1|              null|              null|\n|           1|CENTRO              |            101|PALACIO             |         1|            1007|          7|           1|               1|               1|              null|                 1|\n|           1|CENTRO              |            101|PALACIO             |         1|            1007|          7|           2|               1|               3|              null|              null|\n|           1|CENTRO              |            101|PALACIO             |         1|            1007|          7|           3|               4|               2|              null|              null|\n|           1|CENTRO              |            101|PALACIO             |         1|            1007|          7|           4|               1|               1|              null|              null|\n|           1|CENTRO              |            101|PALACIO             |         1|            1007|          7|           5|               1|               3|              null|                 1|\n|           1|CENTRO              |            101|PALACIO             |         1|            1007|          7|           6|               1|               4|              null|              null|\n|           1|CENTRO              |            101|PALACIO             |         1|            1007|          7|           7|               3|               2|              null|              null|\n|           1|CENTRO              |            101|PALACIO             |         1|            1007|          7|           8|               3|               2|              null|              null|\n|           1|CENTRO              |            101|PALACIO             |         1|            1007|          7|           9|               3|               1|              null|              null|\n|           1|CENTRO              |            101|PALACIO             |         1|            1007|          7|          10|               2|               3|                 1|              null|\n|           1|CENTRO              |            101|PALACIO             |         1|            1007|          7|          11|               4|               2|              null|              null|\n|           1|CENTRO              |            101|PALACIO             |         1|            1007|          7|          12|               3|               1|              null|              null|\n|           1|CENTRO              |            101|PALACIO             |         1|            1007|          7|          13|               1|               3|              null|              null|\n|           1|CENTRO              |            101|PALACIO             |         1|            1007|          7|          14|               4|               1|              null|              null|\n|           1|CENTRO              |            101|PALACIO             |         1|            1007|          7|          15|               2|               1|              null|              null|\n|           1|CENTRO              |            101|PALACIO             |         1|            1007|          7|          16|            null|               2|                 1|              null|\n|           1|CENTRO              |            101|PALACIO             |         1|            1007|          7|          17|               4|               2|              null|              null|\n+------------+--------------------+---------------+--------------------+----------+----------------+-----------+------------+----------------+----------------+------------------+------------------+\nonly showing top 20 rows\n\n</div>",
       "datasetInfos": [],
       "metadata": {},
       "removedWidgets": [],
       "type": "html"
      }
     },
     "output_type": "display_data"
    }
   ],
   "source": [
    "df1 = spark.read\\\n",
    "           .option(\"header\", \"true\")\\\n",
    "           .option(\"inferSchema\", \"true\")\\\n",
    "           .option(\"delimiter\", \";\")\\\n",
    "           .csv(\"dbfs:/FileStore/shared_uploads/nerea.gomez@bosonit.com/Rango_Edades_Seccion_202106-3.csv\")\n",
    "df1.show()"
   ]
  },
  {
   "cell_type": "code",
   "execution_count": 0,
   "metadata": {
    "application/vnd.databricks.v1+cell": {
     "inputWidgets": {},
     "nuid": "6a09583b-0c3e-4799-bb8f-3a782698ff31",
     "showTitle": false,
     "title": ""
    }
   },
   "outputs": [
    {
     "data": {
      "text/html": [
       "<style scoped>\n",
       "  .ansiout {\n",
       "    display: block;\n",
       "    unicode-bidi: embed;\n",
       "    white-space: pre-wrap;\n",
       "    word-wrap: break-word;\n",
       "    word-break: break-all;\n",
       "    font-family: \"Source Code Pro\", \"Menlo\", monospace;;\n",
       "    font-size: 13px;\n",
       "    color: #555;\n",
       "    margin-left: 4px;\n",
       "    line-height: 19px;\n",
       "  }\n",
       "</style>\n",
       "<div class=\"ansiout\">+------------+--------------------+---------------+--------------------+----------+----------------+-----------+------------+----------------+----------------+------------------+------------------+\n",
       "COD_DISTRITO|       DESC_DISTRITO|COD_DIST_BARRIO|         DESC_BARRIO|COD_BARRIO|COD_DIST_SECCION|COD_SECCION|COD_EDAD_INT|EspanolesHombres|EspanolesMujeres|ExtranjerosHombres|ExtranjerosMujeres|\n",
       "+------------+--------------------+---------------+--------------------+----------+----------------+-----------+------------+----------------+----------------+------------------+------------------+\n",
       "           1|CENTRO              |            101|PALACIO             |         1|            1006|          6|         100|               0|               1|                 0|                 0|\n",
       "           1|CENTRO              |            101|PALACIO             |         1|            1006|          6|         103|               0|               1|                 0|                 0|\n",
       "           1|CENTRO              |            101|PALACIO             |         1|            1007|          7|           0|               3|               1|                 0|                 0|\n",
       "           1|CENTRO              |            101|PALACIO             |         1|            1007|          7|           1|               1|               1|                 0|                 1|\n",
       "           1|CENTRO              |            101|PALACIO             |         1|            1007|          7|           2|               1|               3|                 0|                 0|\n",
       "           1|CENTRO              |            101|PALACIO             |         1|            1007|          7|           3|               4|               2|                 0|                 0|\n",
       "           1|CENTRO              |            101|PALACIO             |         1|            1007|          7|           4|               1|               1|                 0|                 0|\n",
       "           1|CENTRO              |            101|PALACIO             |         1|            1007|          7|           5|               1|               3|                 0|                 1|\n",
       "           1|CENTRO              |            101|PALACIO             |         1|            1007|          7|           6|               1|               4|                 0|                 0|\n",
       "           1|CENTRO              |            101|PALACIO             |         1|            1007|          7|           7|               3|               2|                 0|                 0|\n",
       "           1|CENTRO              |            101|PALACIO             |         1|            1007|          7|           8|               3|               2|                 0|                 0|\n",
       "           1|CENTRO              |            101|PALACIO             |         1|            1007|          7|           9|               3|               1|                 0|                 0|\n",
       "           1|CENTRO              |            101|PALACIO             |         1|            1007|          7|          10|               2|               3|                 1|                 0|\n",
       "           1|CENTRO              |            101|PALACIO             |         1|            1007|          7|          11|               4|               2|                 0|                 0|\n",
       "           1|CENTRO              |            101|PALACIO             |         1|            1007|          7|          12|               3|               1|                 0|                 0|\n",
       "           1|CENTRO              |            101|PALACIO             |         1|            1007|          7|          13|               1|               3|                 0|                 0|\n",
       "           1|CENTRO              |            101|PALACIO             |         1|            1007|          7|          14|               4|               1|                 0|                 0|\n",
       "           1|CENTRO              |            101|PALACIO             |         1|            1007|          7|          15|               2|               1|                 0|                 0|\n",
       "           1|CENTRO              |            101|PALACIO             |         1|            1007|          7|          16|               0|               2|                 1|                 0|\n",
       "           1|CENTRO              |            101|PALACIO             |         1|            1007|          7|          17|               4|               2|                 0|                 0|\n",
       "+------------+--------------------+---------------+--------------------+----------+----------------+-----------+------------+----------------+----------------+------------------+------------------+\n",
       "only showing top 20 rows\n",
       "\n",
       "</div>"
      ]
     },
     "metadata": {
      "application/vnd.databricks.v1+output": {
       "addedWidgets": {},
       "arguments": {},
       "data": "<div class=\"ansiout\">+------------+--------------------+---------------+--------------------+----------+----------------+-----------+------------+----------------+----------------+------------------+------------------+\n|COD_DISTRITO|       DESC_DISTRITO|COD_DIST_BARRIO|         DESC_BARRIO|COD_BARRIO|COD_DIST_SECCION|COD_SECCION|COD_EDAD_INT|EspanolesHombres|EspanolesMujeres|ExtranjerosHombres|ExtranjerosMujeres|\n+------------+--------------------+---------------+--------------------+----------+----------------+-----------+------------+----------------+----------------+------------------+------------------+\n|           1|CENTRO              |            101|PALACIO             |         1|            1006|          6|         100|               0|               1|                 0|                 0|\n|           1|CENTRO              |            101|PALACIO             |         1|            1006|          6|         103|               0|               1|                 0|                 0|\n|           1|CENTRO              |            101|PALACIO             |         1|            1007|          7|           0|               3|               1|                 0|                 0|\n|           1|CENTRO              |            101|PALACIO             |         1|            1007|          7|           1|               1|               1|                 0|                 1|\n|           1|CENTRO              |            101|PALACIO             |         1|            1007|          7|           2|               1|               3|                 0|                 0|\n|           1|CENTRO              |            101|PALACIO             |         1|            1007|          7|           3|               4|               2|                 0|                 0|\n|           1|CENTRO              |            101|PALACIO             |         1|            1007|          7|           4|               1|               1|                 0|                 0|\n|           1|CENTRO              |            101|PALACIO             |         1|            1007|          7|           5|               1|               3|                 0|                 1|\n|           1|CENTRO              |            101|PALACIO             |         1|            1007|          7|           6|               1|               4|                 0|                 0|\n|           1|CENTRO              |            101|PALACIO             |         1|            1007|          7|           7|               3|               2|                 0|                 0|\n|           1|CENTRO              |            101|PALACIO             |         1|            1007|          7|           8|               3|               2|                 0|                 0|\n|           1|CENTRO              |            101|PALACIO             |         1|            1007|          7|           9|               3|               1|                 0|                 0|\n|           1|CENTRO              |            101|PALACIO             |         1|            1007|          7|          10|               2|               3|                 1|                 0|\n|           1|CENTRO              |            101|PALACIO             |         1|            1007|          7|          11|               4|               2|                 0|                 0|\n|           1|CENTRO              |            101|PALACIO             |         1|            1007|          7|          12|               3|               1|                 0|                 0|\n|           1|CENTRO              |            101|PALACIO             |         1|            1007|          7|          13|               1|               3|                 0|                 0|\n|           1|CENTRO              |            101|PALACIO             |         1|            1007|          7|          14|               4|               1|                 0|                 0|\n|           1|CENTRO              |            101|PALACIO             |         1|            1007|          7|          15|               2|               1|                 0|                 0|\n|           1|CENTRO              |            101|PALACIO             |         1|            1007|          7|          16|               0|               2|                 1|                 0|\n|           1|CENTRO              |            101|PALACIO             |         1|            1007|          7|          17|               4|               2|                 0|                 0|\n+------------+--------------------+---------------+--------------------+----------+----------------+-----------+------------+----------------+----------------+------------------+------------------+\nonly showing top 20 rows\n\n</div>",
       "datasetInfos": [],
       "metadata": {},
       "removedWidgets": [],
       "type": "html"
      }
     },
     "output_type": "display_data"
    }
   ],
   "source": [
    "df2=df1.na.fill(0)\n",
    "df2.show()"
   ]
  },
  {
   "cell_type": "code",
   "execution_count": 0,
   "metadata": {
    "application/vnd.databricks.v1+cell": {
     "inputWidgets": {},
     "nuid": "0c81a96a-fbe0-4e86-95cf-6ea800ad9f7f",
     "showTitle": false,
     "title": ""
    }
   },
   "outputs": [
    {
     "data": {
      "text/html": [
       "<style scoped>\n",
       "  .ansiout {\n",
       "    display: block;\n",
       "    unicode-bidi: embed;\n",
       "    white-space: pre-wrap;\n",
       "    word-wrap: break-word;\n",
       "    word-break: break-all;\n",
       "    font-family: \"Source Code Pro\", \"Menlo\", monospace;;\n",
       "    font-size: 13px;\n",
       "    color: #555;\n",
       "    margin-left: 4px;\n",
       "    line-height: 19px;\n",
       "  }\n",
       "</style>\n",
       "<div class=\"ansiout\">+------------+-------------+---------------+-----------+----------+----------------+-----------+------------+----------------+----------------+------------------+------------------+\n",
       "COD_DISTRITO|DESC_DISTRITO|COD_DIST_BARRIO|DESC_BARRIO|COD_BARRIO|COD_DIST_SECCION|COD_SECCION|COD_EDAD_INT|EspanolesHombres|EspanolesMujeres|ExtranjerosHombres|ExtranjerosMujeres|\n",
       "+------------+-------------+---------------+-----------+----------+----------------+-----------+------------+----------------+----------------+------------------+------------------+\n",
       "           1|       CENTRO|            101|    PALACIO|         1|            1006|          6|         100|               0|               1|                 0|                 0|\n",
       "           1|       CENTRO|            101|    PALACIO|         1|            1006|          6|         103|               0|               1|                 0|                 0|\n",
       "           1|       CENTRO|            101|    PALACIO|         1|            1007|          7|           0|               3|               1|                 0|                 0|\n",
       "           1|       CENTRO|            101|    PALACIO|         1|            1007|          7|           1|               1|               1|                 0|                 1|\n",
       "           1|       CENTRO|            101|    PALACIO|         1|            1007|          7|           2|               1|               3|                 0|                 0|\n",
       "           1|       CENTRO|            101|    PALACIO|         1|            1007|          7|           3|               4|               2|                 0|                 0|\n",
       "           1|       CENTRO|            101|    PALACIO|         1|            1007|          7|           4|               1|               1|                 0|                 0|\n",
       "           1|       CENTRO|            101|    PALACIO|         1|            1007|          7|           5|               1|               3|                 0|                 1|\n",
       "           1|       CENTRO|            101|    PALACIO|         1|            1007|          7|           6|               1|               4|                 0|                 0|\n",
       "           1|       CENTRO|            101|    PALACIO|         1|            1007|          7|           7|               3|               2|                 0|                 0|\n",
       "           1|       CENTRO|            101|    PALACIO|         1|            1007|          7|           8|               3|               2|                 0|                 0|\n",
       "           1|       CENTRO|            101|    PALACIO|         1|            1007|          7|           9|               3|               1|                 0|                 0|\n",
       "           1|       CENTRO|            101|    PALACIO|         1|            1007|          7|          10|               2|               3|                 1|                 0|\n",
       "           1|       CENTRO|            101|    PALACIO|         1|            1007|          7|          11|               4|               2|                 0|                 0|\n",
       "           1|       CENTRO|            101|    PALACIO|         1|            1007|          7|          12|               3|               1|                 0|                 0|\n",
       "           1|       CENTRO|            101|    PALACIO|         1|            1007|          7|          13|               1|               3|                 0|                 0|\n",
       "           1|       CENTRO|            101|    PALACIO|         1|            1007|          7|          14|               4|               1|                 0|                 0|\n",
       "           1|       CENTRO|            101|    PALACIO|         1|            1007|          7|          15|               2|               1|                 0|                 0|\n",
       "           1|       CENTRO|            101|    PALACIO|         1|            1007|          7|          16|               0|               2|                 1|                 0|\n",
       "           1|       CENTRO|            101|    PALACIO|         1|            1007|          7|          17|               4|               2|                 0|                 0|\n",
       "+------------+-------------+---------------+-----------+----------+----------------+-----------+------------+----------------+----------------+------------------+------------------+\n",
       "only showing top 20 rows\n",
       "\n",
       "</div>"
      ]
     },
     "metadata": {
      "application/vnd.databricks.v1+output": {
       "addedWidgets": {},
       "arguments": {},
       "data": "<div class=\"ansiout\">+------------+-------------+---------------+-----------+----------+----------------+-----------+------------+----------------+----------------+------------------+------------------+\n|COD_DISTRITO|DESC_DISTRITO|COD_DIST_BARRIO|DESC_BARRIO|COD_BARRIO|COD_DIST_SECCION|COD_SECCION|COD_EDAD_INT|EspanolesHombres|EspanolesMujeres|ExtranjerosHombres|ExtranjerosMujeres|\n+------------+-------------+---------------+-----------+----------+----------------+-----------+------------+----------------+----------------+------------------+------------------+\n|           1|       CENTRO|            101|    PALACIO|         1|            1006|          6|         100|               0|               1|                 0|                 0|\n|           1|       CENTRO|            101|    PALACIO|         1|            1006|          6|         103|               0|               1|                 0|                 0|\n|           1|       CENTRO|            101|    PALACIO|         1|            1007|          7|           0|               3|               1|                 0|                 0|\n|           1|       CENTRO|            101|    PALACIO|         1|            1007|          7|           1|               1|               1|                 0|                 1|\n|           1|       CENTRO|            101|    PALACIO|         1|            1007|          7|           2|               1|               3|                 0|                 0|\n|           1|       CENTRO|            101|    PALACIO|         1|            1007|          7|           3|               4|               2|                 0|                 0|\n|           1|       CENTRO|            101|    PALACIO|         1|            1007|          7|           4|               1|               1|                 0|                 0|\n|           1|       CENTRO|            101|    PALACIO|         1|            1007|          7|           5|               1|               3|                 0|                 1|\n|           1|       CENTRO|            101|    PALACIO|         1|            1007|          7|           6|               1|               4|                 0|                 0|\n|           1|       CENTRO|            101|    PALACIO|         1|            1007|          7|           7|               3|               2|                 0|                 0|\n|           1|       CENTRO|            101|    PALACIO|         1|            1007|          7|           8|               3|               2|                 0|                 0|\n|           1|       CENTRO|            101|    PALACIO|         1|            1007|          7|           9|               3|               1|                 0|                 0|\n|           1|       CENTRO|            101|    PALACIO|         1|            1007|          7|          10|               2|               3|                 1|                 0|\n|           1|       CENTRO|            101|    PALACIO|         1|            1007|          7|          11|               4|               2|                 0|                 0|\n|           1|       CENTRO|            101|    PALACIO|         1|            1007|          7|          12|               3|               1|                 0|                 0|\n|           1|       CENTRO|            101|    PALACIO|         1|            1007|          7|          13|               1|               3|                 0|                 0|\n|           1|       CENTRO|            101|    PALACIO|         1|            1007|          7|          14|               4|               1|                 0|                 0|\n|           1|       CENTRO|            101|    PALACIO|         1|            1007|          7|          15|               2|               1|                 0|                 0|\n|           1|       CENTRO|            101|    PALACIO|         1|            1007|          7|          16|               0|               2|                 1|                 0|\n|           1|       CENTRO|            101|    PALACIO|         1|            1007|          7|          17|               4|               2|                 0|                 0|\n+------------+-------------+---------------+-----------+----------+----------------+-----------+------------+----------------+----------------+------------------+------------------+\nonly showing top 20 rows\n\n</div>",
       "datasetInfos": [],
       "metadata": {},
       "removedWidgets": [],
       "type": "html"
      }
     },
     "output_type": "display_data"
    }
   ],
   "source": [
    "from pyspark.sql.functions import regexp_replace, col\n",
    "cleanDF=df2.select(\"COD_DISTRITO\",\n",
    "                   regexp_replace(col(\"DESC_DISTRITO\"), \" \", \"\").alias(\"DESC_DISTRITO\"),\n",
    "                   \"COD_DIST_BARRIO\",\n",
    "                   regexp_replace(col(\"DESC_BARRIO\"), \" \", \"\").alias(\"DESC_BARRIO\"),\n",
    "                   \"COD_BARRIO\",\n",
    "                   \"COD_DIST_SECCION\",\n",
    "                   \"COD_SECCION\",\n",
    "                   \"COD_EDAD_INT\",\n",
    "                   \"EspanolesHombres\",\n",
    "                   \"EspanolesMujeres\",\n",
    "                   \"ExtranjerosHombres\",\n",
    "                   \"ExtranjerosMujeres\")\n",
    "cleanDF.show()"
   ]
  },
  {
   "cell_type": "code",
   "execution_count": 0,
   "metadata": {
    "application/vnd.databricks.v1+cell": {
     "inputWidgets": {},
     "nuid": "af3a7ae7-b210-45e7-9bba-bbd27c03e8fc",
     "showTitle": false,
     "title": ""
    }
   },
   "outputs": [
    {
     "data": {
      "text/html": [
       "<style scoped>\n",
       "  .ansiout {\n",
       "    display: block;\n",
       "    unicode-bidi: embed;\n",
       "    white-space: pre-wrap;\n",
       "    word-wrap: break-word;\n",
       "    word-break: break-all;\n",
       "    font-family: \"Source Code Pro\", \"Menlo\", monospace;;\n",
       "    font-size: 13px;\n",
       "    color: #555;\n",
       "    margin-left: 4px;\n",
       "    line-height: 19px;\n",
       "  }\n",
       "</style>\n",
       "<div class=\"ansiout\">+----------+-------------+\n",
       "COD_BARRIO|  DESC_BARRIO|\n",
       "+----------+-------------+\n",
       "         3|    TRAFALGAR|\n",
       "         1|      PALACIO|\n",
       "         3|      CHOPERA|\n",
       "         5|        LAPAZ|\n",
       "         4|   GUINDALERA|\n",
       "         3| CIUDADJARDIN|\n",
       "         5|  UNIVERSIDAD|\n",
       "         1|    RECOLETOS|\n",
       "         2|  EMBAJADORES|\n",
       "         2|  PROSPERIDAD|\n",
       "         5|VALDEACEDERAS|\n",
       "         7|   MIRASIERRA|\n",
       "         4|     JUSTICIA|\n",
       "         3|   PE�AGRANDE|\n",
       "         8|     ELGOLOSO|\n",
       "         7|      ARAVACA|\n",
       "         3|       CORTES|\n",
       "         1| BELLASVISTAS|\n",
       "         1|     PACIFICO|\n",
       "         3|       LUCERO|\n",
       "+----------+-------------+\n",
       "only showing top 20 rows\n",
       "\n",
       "Out[7]: 132</div>"
      ]
     },
     "metadata": {
      "application/vnd.databricks.v1+output": {
       "addedWidgets": {},
       "arguments": {},
       "data": "<div class=\"ansiout\">+----------+-------------+\n|COD_BARRIO|  DESC_BARRIO|\n+----------+-------------+\n|         3|    TRAFALGAR|\n|         1|      PALACIO|\n|         3|      CHOPERA|\n|         5|        LAPAZ|\n|         4|   GUINDALERA|\n|         3| CIUDADJARDIN|\n|         5|  UNIVERSIDAD|\n|         1|    RECOLETOS|\n|         2|  EMBAJADORES|\n|         2|  PROSPERIDAD|\n|         5|VALDEACEDERAS|\n|         7|   MIRASIERRA|\n|         4|     JUSTICIA|\n|         3|   PE�AGRANDE|\n|         8|     ELGOLOSO|\n|         7|      ARAVACA|\n|         3|       CORTES|\n|         1| BELLASVISTAS|\n|         1|     PACIFICO|\n|         3|       LUCERO|\n+----------+-------------+\nonly showing top 20 rows\n\nOut[7]: 132</div>",
       "datasetInfos": [],
       "metadata": {},
       "removedWidgets": [],
       "type": "html"
      }
     },
     "output_type": "display_data"
    }
   ],
   "source": [
    "##  6.3) Enumera todos los barrios diferentes.\n",
    "cleanDF.select(\"COD_BARRIO\",\"DESC_BARRIO\").distinct().show()\n",
    "cleanDF.select(\"COD_BARRIO\",\"DESC_BARRIO\").distinct().count()"
   ]
  },
  {
   "cell_type": "code",
   "execution_count": 0,
   "metadata": {
    "application/vnd.databricks.v1+cell": {
     "inputWidgets": {},
     "nuid": "66191aa2-0dbd-47ae-a637-c04d5622ba52",
     "showTitle": false,
     "title": ""
    }
   },
   "outputs": [],
   "source": [
    "## 6.4) Crea una vista temporal de nombre \"padron\" y a través de ella cuenta el número de barrios diferentes que hay."
   ]
  },
  {
   "cell_type": "code",
   "execution_count": 0,
   "metadata": {
    "application/vnd.databricks.v1+cell": {
     "inputWidgets": {},
     "nuid": "12b44a9c-5d8f-47ed-b543-af0f8b6acb96",
     "showTitle": false,
     "title": ""
    }
   },
   "outputs": [
    {
     "data": {
      "text/html": [
       "<style scoped>\n",
       "  .ansiout {\n",
       "    display: block;\n",
       "    unicode-bidi: embed;\n",
       "    white-space: pre-wrap;\n",
       "    word-wrap: break-word;\n",
       "    word-break: break-all;\n",
       "    font-family: \"Source Code Pro\", \"Menlo\", monospace;;\n",
       "    font-size: 13px;\n",
       "    color: #555;\n",
       "    margin-left: 4px;\n",
       "    line-height: 19px;\n",
       "  }\n",
       "</style>\n",
       "<div class=\"ansiout\"></div>"
      ]
     },
     "metadata": {
      "application/vnd.databricks.v1+output": {
       "addedWidgets": {},
       "arguments": {},
       "data": "<div class=\"ansiout\"></div>",
       "datasetInfos": [],
       "metadata": {},
       "removedWidgets": [],
       "type": "html"
      }
     },
     "output_type": "display_data"
    }
   ],
   "source": [
    "cleanDF.createOrReplaceTempView(\"padron\")"
   ]
  },
  {
   "cell_type": "code",
   "execution_count": 0,
   "metadata": {
    "application/vnd.databricks.v1+cell": {
     "inputWidgets": {},
     "nuid": "fca0360f-3e6f-43eb-97e1-7d97e78e829f",
     "showTitle": false,
     "title": ""
    }
   },
   "outputs": [
    {
     "data": {
      "text/html": [
       "<style scoped>\n",
       "  .ansiout {\n",
       "    display: block;\n",
       "    unicode-bidi: embed;\n",
       "    white-space: pre-wrap;\n",
       "    word-wrap: break-word;\n",
       "    word-break: break-all;\n",
       "    font-family: \"Source Code Pro\", \"Menlo\", monospace;;\n",
       "    font-size: 13px;\n",
       "    color: #555;\n",
       "    margin-left: 4px;\n",
       "    line-height: 19px;\n",
       "  }\n",
       "</style>\n",
       "<div class=\"ansiout\">Out[12]: 132</div>"
      ]
     },
     "metadata": {
      "application/vnd.databricks.v1+output": {
       "addedWidgets": {},
       "arguments": {},
       "data": "<div class=\"ansiout\">Out[12]: 132</div>",
       "datasetInfos": [],
       "metadata": {},
       "removedWidgets": [],
       "type": "html"
      }
     },
     "output_type": "display_data"
    }
   ],
   "source": [
    "spark.read.table(\"padron\").select(\"DESC_BARRIO\").distinct().count()"
   ]
  },
  {
   "cell_type": "code",
   "execution_count": 0,
   "metadata": {
    "application/vnd.databricks.v1+cell": {
     "inputWidgets": {},
     "nuid": "f4e54b57-b352-4277-8527-80f93c6f7ced",
     "showTitle": false,
     "title": ""
    }
   },
   "outputs": [],
   "source": [
    "##6.5) Crea una nueva columna que muestre la longitud de los campos de la columna DESC_DISTRITO y que se llame \"longitud\"."
   ]
  },
  {
   "cell_type": "code",
   "execution_count": 0,
   "metadata": {
    "application/vnd.databricks.v1+cell": {
     "inputWidgets": {},
     "nuid": "b5199382-9387-40f2-9d23-9e7e22296882",
     "showTitle": false,
     "title": ""
    }
   },
   "outputs": [
    {
     "data": {
      "text/html": [
       "<style scoped>\n",
       "  .ansiout {\n",
       "    display: block;\n",
       "    unicode-bidi: embed;\n",
       "    white-space: pre-wrap;\n",
       "    word-wrap: break-word;\n",
       "    word-break: break-all;\n",
       "    font-family: \"Source Code Pro\", \"Menlo\", monospace;;\n",
       "    font-size: 13px;\n",
       "    color: #555;\n",
       "    margin-left: 4px;\n",
       "    line-height: 19px;\n",
       "  }\n",
       "</style>\n",
       "<div class=\"ansiout\">+------------------+--------+\n",
       "     DESC_DISTRITO|longitud|\n",
       "+------------------+--------+\n",
       "        ARGANZUELA|      10|\n",
       "             USERA|       5|\n",
       "         SALAMANCA|       9|\n",
       "  PUENTEDEVALLECAS|      16|\n",
       "SANBLAS-CANILLEJAS|      18|\n",
       "          CHAMBERI|       8|\n",
       "FUENCARRAL-ELPARDO|      18|\n",
       "            RETIRO|       6|\n",
       "            CENTRO|       6|\n",
       "         CHAMARTIN|       9|\n",
       "            LATINA|       6|\n",
       "         MORATALAZ|       9|\n",
       "   VILLADEVALLECAS|      15|\n",
       "            TETUAN|       6|\n",
       "      CIUDADLINEAL|      12|\n",
       "         HORTALEZA|       9|\n",
       "        VILLAVERDE|      10|\n",
       "       CARABANCHEL|      11|\n",
       "   MONCLOA-ARAVACA|      15|\n",
       "         VICALVARO|       9|\n",
       "+------------------+--------+\n",
       "only showing top 20 rows\n",
       "\n",
       "</div>"
      ]
     },
     "metadata": {
      "application/vnd.databricks.v1+output": {
       "addedWidgets": {},
       "arguments": {},
       "data": "<div class=\"ansiout\">+------------------+--------+\n|     DESC_DISTRITO|longitud|\n+------------------+--------+\n|        ARGANZUELA|      10|\n|             USERA|       5|\n|         SALAMANCA|       9|\n|  PUENTEDEVALLECAS|      16|\n|SANBLAS-CANILLEJAS|      18|\n|          CHAMBERI|       8|\n|FUENCARRAL-ELPARDO|      18|\n|            RETIRO|       6|\n|            CENTRO|       6|\n|         CHAMARTIN|       9|\n|            LATINA|       6|\n|         MORATALAZ|       9|\n|   VILLADEVALLECAS|      15|\n|            TETUAN|       6|\n|      CIUDADLINEAL|      12|\n|         HORTALEZA|       9|\n|        VILLAVERDE|      10|\n|       CARABANCHEL|      11|\n|   MONCLOA-ARAVACA|      15|\n|         VICALVARO|       9|\n+------------------+--------+\nonly showing top 20 rows\n\n</div>",
       "datasetInfos": [],
       "metadata": {},
       "removedWidgets": [],
       "type": "html"
      }
     },
     "output_type": "display_data"
    }
   ],
   "source": [
    "import pyspark.sql.functions as F\n",
    "cleanDF.select(\"DESC_DISTRITO\").withColumn(\"longitud\", F.length(\"DESC_DISTRITO\")).distinct().show()\n",
    "#hago un distinct() para mostrar que se hace bien con todos los distritos"
   ]
  },
  {
   "cell_type": "code",
   "execution_count": 0,
   "metadata": {
    "application/vnd.databricks.v1+cell": {
     "inputWidgets": {},
     "nuid": "c24eccbd-c34b-4578-a2c2-0255b690d489",
     "showTitle": false,
     "title": ""
    }
   },
   "outputs": [
    {
     "data": {
      "text/html": [
       "<style scoped>\n",
       "  .ansiout {\n",
       "    display: block;\n",
       "    unicode-bidi: embed;\n",
       "    white-space: pre-wrap;\n",
       "    word-wrap: break-word;\n",
       "    word-break: break-all;\n",
       "    font-family: \"Source Code Pro\", \"Menlo\", monospace;;\n",
       "    font-size: 13px;\n",
       "    color: #555;\n",
       "    margin-left: 4px;\n",
       "    line-height: 19px;\n",
       "  }\n",
       "</style>\n",
       "<div class=\"ansiout\">+--------------------+--------+\n",
       "       DESC_DISTRITO|longitud|\n",
       "+--------------------+--------+\n",
       "MONCLOA-ARAVACA     |      20|\n",
       "CARABANCHEL         |      20|\n",
       "ARGANZUELA          |      20|\n",
       "CHAMARTIN           |      20|\n",
       "TETUAN              |      20|\n",
       "VILLAVERDE          |      20|\n",
       "CHAMBERI            |      20|\n",
       "LATINA              |      20|\n",
       "USERA               |      20|\n",
       "CENTRO              |      20|\n",
       "HORTALEZA           |      20|\n",
       "MORATALAZ           |      20|\n",
       "CIUDAD LINEAL       |      20|\n",
       "SALAMANCA           |      20|\n",
       "FUENCARRAL-EL PARDO |      20|\n",
       "VILLA DE VALLECAS   |      20|\n",
       "RETIRO              |      20|\n",
       "PUENTE DE VALLECAS  |      20|\n",
       "SAN BLAS-CANILLEJAS |      20|\n",
       "VICALVARO           |      20|\n",
       "+--------------------+--------+\n",
       "only showing top 20 rows\n",
       "\n",
       "</div>"
      ]
     },
     "metadata": {
      "application/vnd.databricks.v1+output": {
       "addedWidgets": {},
       "arguments": {},
       "data": "<div class=\"ansiout\">+--------------------+--------+\n|       DESC_DISTRITO|longitud|\n+--------------------+--------+\n|MONCLOA-ARAVACA     |      20|\n|CARABANCHEL         |      20|\n|ARGANZUELA          |      20|\n|CHAMARTIN           |      20|\n|TETUAN              |      20|\n|VILLAVERDE          |      20|\n|CHAMBERI            |      20|\n|LATINA              |      20|\n|USERA               |      20|\n|CENTRO              |      20|\n|HORTALEZA           |      20|\n|MORATALAZ           |      20|\n|CIUDAD LINEAL       |      20|\n|SALAMANCA           |      20|\n|FUENCARRAL-EL PARDO |      20|\n|VILLA DE VALLECAS   |      20|\n|RETIRO              |      20|\n|PUENTE DE VALLECAS  |      20|\n|SAN BLAS-CANILLEJAS |      20|\n|VICALVARO           |      20|\n+--------------------+--------+\nonly showing top 20 rows\n\n</div>",
       "datasetInfos": [],
       "metadata": {},
       "removedWidgets": [],
       "type": "html"
      }
     },
     "output_type": "display_data"
    }
   ],
   "source": [
    "#prueba a ver si se han eliminado los espacios en blanco en el primer DF\n",
    "df.select(\"DESC_DISTRITO\").withColumn(\"longitud\", F.length(\"DESC_DISTRITO\")).distinct().show()"
   ]
  },
  {
   "cell_type": "code",
   "execution_count": 0,
   "metadata": {
    "application/vnd.databricks.v1+cell": {
     "inputWidgets": {},
     "nuid": "36850239-8025-4485-b2f5-ff763b8606fb",
     "showTitle": false,
     "title": ""
    }
   },
   "outputs": [],
   "source": [
    "## 6.6) Crea una nueva columna que muestre el valor 5 para cada uno de los registros de la tabla. "
   ]
  },
  {
   "cell_type": "code",
   "execution_count": 0,
   "metadata": {
    "application/vnd.databricks.v1+cell": {
     "inputWidgets": {},
     "nuid": "b2f51352-4af4-4176-a659-8886fd3e1136",
     "showTitle": false,
     "title": ""
    }
   },
   "outputs": [
    {
     "data": {
      "text/html": [
       "<style scoped>\n",
       "  .ansiout {\n",
       "    display: block;\n",
       "    unicode-bidi: embed;\n",
       "    white-space: pre-wrap;\n",
       "    word-wrap: break-word;\n",
       "    word-break: break-all;\n",
       "    font-family: \"Source Code Pro\", \"Menlo\", monospace;;\n",
       "    font-size: 13px;\n",
       "    color: #555;\n",
       "    margin-left: 4px;\n",
       "    line-height: 19px;\n",
       "  }\n",
       "</style>\n",
       "<div class=\"ansiout\">+------------+-------------+---------------+-----------+----------+----------------+-----------+------------+----------------+----------------+------------------+------------------+----------+\n",
       "COD_DISTRITO|DESC_DISTRITO|COD_DIST_BARRIO|DESC_BARRIO|COD_BARRIO|COD_DIST_SECCION|COD_SECCION|COD_EDAD_INT|EspanolesHombres|EspanolesMujeres|ExtranjerosHombres|ExtranjerosMujeres|numberFive|\n",
       "+------------+-------------+---------------+-----------+----------+----------------+-----------+------------+----------------+----------------+------------------+------------------+----------+\n",
       "           1|       CENTRO|            101|    PALACIO|         1|            1006|          6|         100|               0|               1|                 0|                 0|         5|\n",
       "           1|       CENTRO|            101|    PALACIO|         1|            1006|          6|         103|               0|               1|                 0|                 0|         5|\n",
       "           1|       CENTRO|            101|    PALACIO|         1|            1007|          7|           0|               3|               1|                 0|                 0|         5|\n",
       "           1|       CENTRO|            101|    PALACIO|         1|            1007|          7|           1|               1|               1|                 0|                 1|         5|\n",
       "           1|       CENTRO|            101|    PALACIO|         1|            1007|          7|           2|               1|               3|                 0|                 0|         5|\n",
       "           1|       CENTRO|            101|    PALACIO|         1|            1007|          7|           3|               4|               2|                 0|                 0|         5|\n",
       "           1|       CENTRO|            101|    PALACIO|         1|            1007|          7|           4|               1|               1|                 0|                 0|         5|\n",
       "           1|       CENTRO|            101|    PALACIO|         1|            1007|          7|           5|               1|               3|                 0|                 1|         5|\n",
       "           1|       CENTRO|            101|    PALACIO|         1|            1007|          7|           6|               1|               4|                 0|                 0|         5|\n",
       "           1|       CENTRO|            101|    PALACIO|         1|            1007|          7|           7|               3|               2|                 0|                 0|         5|\n",
       "           1|       CENTRO|            101|    PALACIO|         1|            1007|          7|           8|               3|               2|                 0|                 0|         5|\n",
       "           1|       CENTRO|            101|    PALACIO|         1|            1007|          7|           9|               3|               1|                 0|                 0|         5|\n",
       "           1|       CENTRO|            101|    PALACIO|         1|            1007|          7|          10|               2|               3|                 1|                 0|         5|\n",
       "           1|       CENTRO|            101|    PALACIO|         1|            1007|          7|          11|               4|               2|                 0|                 0|         5|\n",
       "           1|       CENTRO|            101|    PALACIO|         1|            1007|          7|          12|               3|               1|                 0|                 0|         5|\n",
       "           1|       CENTRO|            101|    PALACIO|         1|            1007|          7|          13|               1|               3|                 0|                 0|         5|\n",
       "           1|       CENTRO|            101|    PALACIO|         1|            1007|          7|          14|               4|               1|                 0|                 0|         5|\n",
       "           1|       CENTRO|            101|    PALACIO|         1|            1007|          7|          15|               2|               1|                 0|                 0|         5|\n",
       "           1|       CENTRO|            101|    PALACIO|         1|            1007|          7|          16|               0|               2|                 1|                 0|         5|\n",
       "           1|       CENTRO|            101|    PALACIO|         1|            1007|          7|          17|               4|               2|                 0|                 0|         5|\n",
       "+------------+-------------+---------------+-----------+----------+----------------+-----------+------------+----------------+----------------+------------------+------------------+----------+\n",
       "only showing top 20 rows\n",
       "\n",
       "</div>"
      ]
     },
     "metadata": {
      "application/vnd.databricks.v1+output": {
       "addedWidgets": {},
       "arguments": {},
       "data": "<div class=\"ansiout\">+------------+-------------+---------------+-----------+----------+----------------+-----------+------------+----------------+----------------+------------------+------------------+----------+\n|COD_DISTRITO|DESC_DISTRITO|COD_DIST_BARRIO|DESC_BARRIO|COD_BARRIO|COD_DIST_SECCION|COD_SECCION|COD_EDAD_INT|EspanolesHombres|EspanolesMujeres|ExtranjerosHombres|ExtranjerosMujeres|numberFive|\n+------------+-------------+---------------+-----------+----------+----------------+-----------+------------+----------------+----------------+------------------+------------------+----------+\n|           1|       CENTRO|            101|    PALACIO|         1|            1006|          6|         100|               0|               1|                 0|                 0|         5|\n|           1|       CENTRO|            101|    PALACIO|         1|            1006|          6|         103|               0|               1|                 0|                 0|         5|\n|           1|       CENTRO|            101|    PALACIO|         1|            1007|          7|           0|               3|               1|                 0|                 0|         5|\n|           1|       CENTRO|            101|    PALACIO|         1|            1007|          7|           1|               1|               1|                 0|                 1|         5|\n|           1|       CENTRO|            101|    PALACIO|         1|            1007|          7|           2|               1|               3|                 0|                 0|         5|\n|           1|       CENTRO|            101|    PALACIO|         1|            1007|          7|           3|               4|               2|                 0|                 0|         5|\n|           1|       CENTRO|            101|    PALACIO|         1|            1007|          7|           4|               1|               1|                 0|                 0|         5|\n|           1|       CENTRO|            101|    PALACIO|         1|            1007|          7|           5|               1|               3|                 0|                 1|         5|\n|           1|       CENTRO|            101|    PALACIO|         1|            1007|          7|           6|               1|               4|                 0|                 0|         5|\n|           1|       CENTRO|            101|    PALACIO|         1|            1007|          7|           7|               3|               2|                 0|                 0|         5|\n|           1|       CENTRO|            101|    PALACIO|         1|            1007|          7|           8|               3|               2|                 0|                 0|         5|\n|           1|       CENTRO|            101|    PALACIO|         1|            1007|          7|           9|               3|               1|                 0|                 0|         5|\n|           1|       CENTRO|            101|    PALACIO|         1|            1007|          7|          10|               2|               3|                 1|                 0|         5|\n|           1|       CENTRO|            101|    PALACIO|         1|            1007|          7|          11|               4|               2|                 0|                 0|         5|\n|           1|       CENTRO|            101|    PALACIO|         1|            1007|          7|          12|               3|               1|                 0|                 0|         5|\n|           1|       CENTRO|            101|    PALACIO|         1|            1007|          7|          13|               1|               3|                 0|                 0|         5|\n|           1|       CENTRO|            101|    PALACIO|         1|            1007|          7|          14|               4|               1|                 0|                 0|         5|\n|           1|       CENTRO|            101|    PALACIO|         1|            1007|          7|          15|               2|               1|                 0|                 0|         5|\n|           1|       CENTRO|            101|    PALACIO|         1|            1007|          7|          16|               0|               2|                 1|                 0|         5|\n|           1|       CENTRO|            101|    PALACIO|         1|            1007|          7|          17|               4|               2|                 0|                 0|         5|\n+------------+-------------+---------------+-----------+----------+----------------+-----------+------------+----------------+----------------+------------------+------------------+----------+\nonly showing top 20 rows\n\n</div>",
       "datasetInfos": [],
       "metadata": {},
       "removedWidgets": [],
       "type": "html"
      }
     },
     "output_type": "display_data"
    }
   ],
   "source": [
    "from pyspark.sql.functions import lit\n",
    "withFive=cleanDF.withColumn(\"numberFive\", lit(5))\n",
    "withFive.show()"
   ]
  },
  {
   "cell_type": "code",
   "execution_count": 0,
   "metadata": {
    "application/vnd.databricks.v1+cell": {
     "inputWidgets": {},
     "nuid": "59e687e4-b222-473f-9a28-1cd069b4a742",
     "showTitle": false,
     "title": ""
    }
   },
   "outputs": [
    {
     "data": {
      "text/html": [
       "<style scoped>\n",
       "  .ansiout {\n",
       "    display: block;\n",
       "    unicode-bidi: embed;\n",
       "    white-space: pre-wrap;\n",
       "    word-wrap: break-word;\n",
       "    word-break: break-all;\n",
       "    font-family: \"Source Code Pro\", \"Menlo\", monospace;;\n",
       "    font-size: 13px;\n",
       "    color: #555;\n",
       "    margin-left: 4px;\n",
       "    line-height: 19px;\n",
       "  }\n",
       "</style>\n",
       "<div class=\"ansiout\"></div>"
      ]
     },
     "metadata": {
      "application/vnd.databricks.v1+output": {
       "addedWidgets": {},
       "arguments": {},
       "data": "<div class=\"ansiout\"></div>",
       "datasetInfos": [],
       "metadata": {},
       "removedWidgets": [],
       "type": "html"
      }
     },
     "output_type": "display_data"
    }
   ],
   "source": [
    "## 6.7) Borra esta columna."
   ]
  },
  {
   "cell_type": "code",
   "execution_count": 0,
   "metadata": {
    "application/vnd.databricks.v1+cell": {
     "inputWidgets": {},
     "nuid": "06ba842b-860a-44b3-ad31-2bdd1cb89526",
     "showTitle": false,
     "title": ""
    }
   },
   "outputs": [
    {
     "data": {
      "text/html": [
       "<style scoped>\n",
       "  .ansiout {\n",
       "    display: block;\n",
       "    unicode-bidi: embed;\n",
       "    white-space: pre-wrap;\n",
       "    word-wrap: break-word;\n",
       "    word-break: break-all;\n",
       "    font-family: \"Source Code Pro\", \"Menlo\", monospace;;\n",
       "    font-size: 13px;\n",
       "    color: #555;\n",
       "    margin-left: 4px;\n",
       "    line-height: 19px;\n",
       "  }\n",
       "</style>\n",
       "<div class=\"ansiout\">Out[18]: DataFrame[COD_DISTRITO: int, DESC_DISTRITO: string, COD_DIST_BARRIO: int, DESC_BARRIO: string, COD_BARRIO: int, COD_DIST_SECCION: int, COD_SECCION: int, COD_EDAD_INT: int, EspanolesHombres: int, EspanolesMujeres: int, ExtranjerosHombres: int, ExtranjerosMujeres: int]</div>"
      ]
     },
     "metadata": {
      "application/vnd.databricks.v1+output": {
       "addedWidgets": {},
       "arguments": {},
       "data": "<div class=\"ansiout\">Out[18]: DataFrame[COD_DISTRITO: int, DESC_DISTRITO: string, COD_DIST_BARRIO: int, DESC_BARRIO: string, COD_BARRIO: int, COD_DIST_SECCION: int, COD_SECCION: int, COD_EDAD_INT: int, EspanolesHombres: int, EspanolesMujeres: int, ExtranjerosHombres: int, ExtranjerosMujeres: int]</div>",
       "datasetInfos": [],
       "metadata": {},
       "removedWidgets": [],
       "type": "html"
      }
     },
     "output_type": "display_data"
    }
   ],
   "source": [
    "withFive=withFive.select(\"*\").drop(\"numberFive\")\n",
    "withFive.select(\"*\")"
   ]
  },
  {
   "cell_type": "code",
   "execution_count": 0,
   "metadata": {
    "application/vnd.databricks.v1+cell": {
     "inputWidgets": {},
     "nuid": "59c029c7-c1e7-4b72-b775-6bebfb13ed65",
     "showTitle": false,
     "title": ""
    }
   },
   "outputs": [],
   "source": [
    "## 6.8) Particiona el DataFrame por las variables DESC_DISTRITO y DESC_BARRIO."
   ]
  },
  {
   "cell_type": "code",
   "execution_count": 0,
   "metadata": {
    "application/vnd.databricks.v1+cell": {
     "inputWidgets": {},
     "nuid": "8775c611-aecc-4f9c-9f22-e91407d4f623",
     "showTitle": false,
     "title": ""
    }
   },
   "outputs": [
    {
     "data": {
      "text/html": [
       "<style scoped>\n",
       "  .ansiout {\n",
       "    display: block;\n",
       "    unicode-bidi: embed;\n",
       "    white-space: pre-wrap;\n",
       "    word-wrap: break-word;\n",
       "    word-break: break-all;\n",
       "    font-family: \"Source Code Pro\", \"Menlo\", monospace;;\n",
       "    font-size: 13px;\n",
       "    color: #555;\n",
       "    margin-left: 4px;\n",
       "    line-height: 19px;\n",
       "  }\n",
       "</style>\n",
       "<div class=\"ansiout\"></div>"
      ]
     },
     "metadata": {
      "application/vnd.databricks.v1+output": {
       "addedWidgets": {},
       "arguments": {},
       "data": "<div class=\"ansiout\"></div>",
       "datasetInfos": [],
       "metadata": {},
       "removedWidgets": [],
       "type": "html"
      }
     },
     "output_type": "display_data"
    }
   ],
   "source": [
    "partitionDF = cleanDF.repartition(\"DESC_DISTRITO\", \"DESC_BARRIO\")"
   ]
  },
  {
   "cell_type": "code",
   "execution_count": 0,
   "metadata": {
    "application/vnd.databricks.v1+cell": {
     "inputWidgets": {},
     "nuid": "14635fc5-df9f-4c4b-9384-6e1d481d251f",
     "showTitle": false,
     "title": ""
    }
   },
   "outputs": [],
   "source": [
    "## 6.9) Almacénalo en caché. Consulta en el puerto 4040 (UI de Spark) de tu usuario local el estado de los rdds almacenados."
   ]
  },
  {
   "cell_type": "code",
   "execution_count": 0,
   "metadata": {
    "application/vnd.databricks.v1+cell": {
     "inputWidgets": {},
     "nuid": "7d20d1a1-c08c-472e-a65d-fe713b502814",
     "showTitle": false,
     "title": ""
    }
   },
   "outputs": [
    {
     "data": {
      "text/html": [
       "<style scoped>\n",
       "  .ansiout {\n",
       "    display: block;\n",
       "    unicode-bidi: embed;\n",
       "    white-space: pre-wrap;\n",
       "    word-wrap: break-word;\n",
       "    word-break: break-all;\n",
       "    font-family: \"Source Code Pro\", \"Menlo\", monospace;;\n",
       "    font-size: 13px;\n",
       "    color: #555;\n",
       "    margin-left: 4px;\n",
       "    line-height: 19px;\n",
       "  }\n",
       "</style>\n",
       "<div class=\"ansiout\">Out[20]: DataFrame[COD_DISTRITO: int, DESC_DISTRITO: string, COD_DIST_BARRIO: int, DESC_BARRIO: string, COD_BARRIO: int, COD_DIST_SECCION: int, COD_SECCION: int, COD_EDAD_INT: int, EspanolesHombres: int, EspanolesMujeres: int, ExtranjerosHombres: int, ExtranjerosMujeres: int]</div>"
      ]
     },
     "metadata": {
      "application/vnd.databricks.v1+output": {
       "addedWidgets": {},
       "arguments": {},
       "data": "<div class=\"ansiout\">Out[20]: DataFrame[COD_DISTRITO: int, DESC_DISTRITO: string, COD_DIST_BARRIO: int, DESC_BARRIO: string, COD_BARRIO: int, COD_DIST_SECCION: int, COD_SECCION: int, COD_EDAD_INT: int, EspanolesHombres: int, EspanolesMujeres: int, ExtranjerosHombres: int, ExtranjerosMujeres: int]</div>",
       "datasetInfos": [],
       "metadata": {},
       "removedWidgets": [],
       "type": "html"
      }
     },
     "output_type": "display_data"
    }
   ],
   "source": [
    "partitionDF.cache()"
   ]
  },
  {
   "cell_type": "code",
   "execution_count": 0,
   "metadata": {
    "application/vnd.databricks.v1+cell": {
     "inputWidgets": {},
     "nuid": "efa5114b-2611-47e8-b0fe-a8bbda4dec0b",
     "showTitle": false,
     "title": ""
    }
   },
   "outputs": [
    {
     "data": {
      "text/html": [
       "<style scoped>\n",
       "  .ansiout {\n",
       "    display: block;\n",
       "    unicode-bidi: embed;\n",
       "    white-space: pre-wrap;\n",
       "    word-wrap: break-word;\n",
       "    word-break: break-all;\n",
       "    font-family: \"Source Code Pro\", \"Menlo\", monospace;;\n",
       "    font-size: 13px;\n",
       "    color: #555;\n",
       "    margin-left: 4px;\n",
       "    line-height: 19px;\n",
       "  }\n",
       "</style>\n",
       "<div class=\"ansiout\"></div>"
      ]
     },
     "metadata": {
      "application/vnd.databricks.v1+output": {
       "addedWidgets": {},
       "arguments": {},
       "data": "<div class=\"ansiout\"></div>",
       "datasetInfos": [],
       "metadata": {},
       "removedWidgets": [],
       "type": "html"
      }
     },
     "output_type": "display_data"
    }
   ],
   "source": [
    "## 6.10) Lanza una consulta contra el DF resultante en la que muestre el número total de \"espanoleshombres\", \"espanolesmujeres\", extranjeroshombres\" y \"extranjerosmujeres\" para cada barrio de cada distrito. Las columnas distrito y barrio deben ser las primeras en aparecer en el show. Los resultados deben estar ordenados en orden de más a menos según la columna \"extranjerosmujeres\" y desempatarán por la columna \"extranjeroshombres\"."
   ]
  },
  {
   "cell_type": "code",
   "execution_count": 0,
   "metadata": {
    "application/vnd.databricks.v1+cell": {
     "inputWidgets": {},
     "nuid": "09ca8d34-3c23-425f-8ea7-b36e37e43a0c",
     "showTitle": false,
     "title": ""
    }
   },
   "outputs": [
    {
     "data": {
      "text/html": [
       "<style scoped>\n",
       "  .ansiout {\n",
       "    display: block;\n",
       "    unicode-bidi: embed;\n",
       "    white-space: pre-wrap;\n",
       "    word-wrap: break-word;\n",
       "    word-break: break-all;\n",
       "    font-family: \"Source Code Pro\", \"Menlo\", monospace;;\n",
       "    font-size: 13px;\n",
       "    color: #555;\n",
       "    margin-left: 4px;\n",
       "    line-height: 19px;\n",
       "  }\n",
       "</style>\n",
       "<div class=\"ansiout\">+------------------+------------------+-------+-------+-------+-------+\n",
       "     DESC_DISTRITO|       DESC_BARRIO|Sum_EsH|Sum_EsM|Sum_ExH|Sum_ExM|\n",
       "+------------------+------------------+-------+-------+-------+-------+\n",
       "  PUENTEDEVALLECAS|          SANDIEGO|  13875|  15544|   6732|   6961|\n",
       "            LATINA|            ALUCHE|  25000|  29776|   5372|   6257|\n",
       "      CIUDADLINEAL|       PUEBLONUEVO|  23291|  27325|   5477|   6198|\n",
       "       CARABANCHEL|       VISTAALEGRE|  15988|  19466|   5356|   6000|\n",
       "            CENTRO|       EMBAJADORES|  16693|  16666|   8019|   5718|\n",
       "  PUENTEDEVALLECAS|          NUMANCIA|  17200|  19472|   5332|   5603|\n",
       "        VILLAVERDE|VILLAVERDEALTOC.H.|  17087|  19060|   5031|   5236|\n",
       "      CIUDADLINEAL|            VENTAS|  17715|  21818|   3924|   4783|\n",
       "            LATINA|    PUERTADELANGEL|  15169|  17728|   4097|   4653|\n",
       "       CARABANCHEL|      PUERTABONITA|  12525|  14240|   4230|   4624|\n",
       "       CARABANCHEL|         SANISIDRO|  14487|  16574|   4019|   4395|\n",
       "FUENCARRAL-ELPARDO|          VALVERDE|  26955|  29190|   3532|   4282|\n",
       "            CENTRO|       UNIVERSIDAD|  12542|  12631|   4017|   4040|\n",
       "       CARABANCHEL|            OPA�EL|  11651|  14084|   3543|   3990|\n",
       "        VILLAVERDE|        LOSROSALES|  14191|  15636|   3794|   3821|\n",
       "            TETUAN|      BELLASVISTAS|  10202|  11954|   3118|   3776|\n",
       "             USERA|          MOSCARDO|   8507|  10247|   3789|   3767|\n",
       "         VICALVARO|  CASCOH.VICALVARO|  13391|  14509|   3687|   3749|\n",
       "         HORTALEZA|      VALDEFUENTES|  28457|  28886|   2839|   3724|\n",
       "   VILLADEVALLECAS|   CASCOH.VALLECAS|  15648|  17029|   3439|   3661|\n",
       "+------------------+------------------+-------+-------+-------+-------+\n",
       "only showing top 20 rows\n",
       "\n",
       "</div>"
      ]
     },
     "metadata": {
      "application/vnd.databricks.v1+output": {
       "addedWidgets": {},
       "arguments": {},
       "data": "<div class=\"ansiout\">+------------------+------------------+-------+-------+-------+-------+\n|     DESC_DISTRITO|       DESC_BARRIO|Sum_EsH|Sum_EsM|Sum_ExH|Sum_ExM|\n+------------------+------------------+-------+-------+-------+-------+\n|  PUENTEDEVALLECAS|          SANDIEGO|  13875|  15544|   6732|   6961|\n|            LATINA|            ALUCHE|  25000|  29776|   5372|   6257|\n|      CIUDADLINEAL|       PUEBLONUEVO|  23291|  27325|   5477|   6198|\n|       CARABANCHEL|       VISTAALEGRE|  15988|  19466|   5356|   6000|\n|            CENTRO|       EMBAJADORES|  16693|  16666|   8019|   5718|\n|  PUENTEDEVALLECAS|          NUMANCIA|  17200|  19472|   5332|   5603|\n|        VILLAVERDE|VILLAVERDEALTOC.H.|  17087|  19060|   5031|   5236|\n|      CIUDADLINEAL|            VENTAS|  17715|  21818|   3924|   4783|\n|            LATINA|    PUERTADELANGEL|  15169|  17728|   4097|   4653|\n|       CARABANCHEL|      PUERTABONITA|  12525|  14240|   4230|   4624|\n|       CARABANCHEL|         SANISIDRO|  14487|  16574|   4019|   4395|\n|FUENCARRAL-ELPARDO|          VALVERDE|  26955|  29190|   3532|   4282|\n|            CENTRO|       UNIVERSIDAD|  12542|  12631|   4017|   4040|\n|       CARABANCHEL|            OPA�EL|  11651|  14084|   3543|   3990|\n|        VILLAVERDE|        LOSROSALES|  14191|  15636|   3794|   3821|\n|            TETUAN|      BELLASVISTAS|  10202|  11954|   3118|   3776|\n|             USERA|          MOSCARDO|   8507|  10247|   3789|   3767|\n|         VICALVARO|  CASCOH.VICALVARO|  13391|  14509|   3687|   3749|\n|         HORTALEZA|      VALDEFUENTES|  28457|  28886|   2839|   3724|\n|   VILLADEVALLECAS|   CASCOH.VALLECAS|  15648|  17029|   3439|   3661|\n+------------------+------------------+-------+-------+-------+-------+\nonly showing top 20 rows\n\n</div>",
       "datasetInfos": [],
       "metadata": {},
       "removedWidgets": [],
       "type": "html"
      }
     },
     "output_type": "display_data"
    }
   ],
   "source": [
    "partitionDF.groupBy(\"DESC_DISTRITO\", \"DESC_BARRIO\")\\\n",
    "            .agg(F.sum(\"EspanolesHombres\").alias(\"Sum_EsH\"), F.sum(\"EspanolesMujeres\").alias(\"Sum_EsM\"), \n",
    "               F.sum(\"ExtranjerosHombres\").alias(\"Sum_ExH\"), F.sum(\"ExtranjerosMujeres\").alias(\"Sum_ExM\"))\\\n",
    "           .orderBy((F.col(\"Sum_ExM\")), (F.col(\"Sum_ExH\")), ascending=False )\\\n",
    "           .show()"
   ]
  },
  {
   "cell_type": "code",
   "execution_count": 0,
   "metadata": {
    "application/vnd.databricks.v1+cell": {
     "inputWidgets": {},
     "nuid": "5d2ff5ab-8fdf-4e34-9e36-b4a55791b13a",
     "showTitle": false,
     "title": ""
    }
   },
   "outputs": [],
   "source": [
    "## 6.11)Elimina el registro en caché."
   ]
  },
  {
   "cell_type": "code",
   "execution_count": 0,
   "metadata": {
    "application/vnd.databricks.v1+cell": {
     "inputWidgets": {},
     "nuid": "1f8cc813-eb21-4b27-91d8-6d8739d5f92d",
     "showTitle": false,
     "title": ""
    }
   },
   "outputs": [
    {
     "data": {
      "text/html": [
       "<style scoped>\n",
       "  .ansiout {\n",
       "    display: block;\n",
       "    unicode-bidi: embed;\n",
       "    white-space: pre-wrap;\n",
       "    word-wrap: break-word;\n",
       "    word-break: break-all;\n",
       "    font-family: \"Source Code Pro\", \"Menlo\", monospace;;\n",
       "    font-size: 13px;\n",
       "    color: #555;\n",
       "    margin-left: 4px;\n",
       "    line-height: 19px;\n",
       "  }\n",
       "</style>\n",
       "<div class=\"ansiout\">Out[22]: DataFrame[COD_DISTRITO: int, DESC_DISTRITO: string, COD_DIST_BARRIO: int, DESC_BARRIO: string, COD_BARRIO: int, COD_DIST_SECCION: int, COD_SECCION: int, COD_EDAD_INT: int, EspanolesHombres: int, EspanolesMujeres: int, ExtranjerosHombres: int, ExtranjerosMujeres: int]</div>"
      ]
     },
     "metadata": {
      "application/vnd.databricks.v1+output": {
       "addedWidgets": {},
       "arguments": {},
       "data": "<div class=\"ansiout\">Out[22]: DataFrame[COD_DISTRITO: int, DESC_DISTRITO: string, COD_DIST_BARRIO: int, DESC_BARRIO: string, COD_BARRIO: int, COD_DIST_SECCION: int, COD_SECCION: int, COD_EDAD_INT: int, EspanolesHombres: int, EspanolesMujeres: int, ExtranjerosHombres: int, ExtranjerosMujeres: int]</div>",
       "datasetInfos": [],
       "metadata": {},
       "removedWidgets": [],
       "type": "html"
      }
     },
     "output_type": "display_data"
    }
   ],
   "source": [
    "partitionDF.unpersist()"
   ]
  },
  {
   "cell_type": "code",
   "execution_count": 0,
   "metadata": {
    "application/vnd.databricks.v1+cell": {
     "inputWidgets": {},
     "nuid": "f17b0996-218b-4099-8fcb-c9fe986d39c5",
     "showTitle": false,
     "title": ""
    }
   },
   "outputs": [],
   "source": [
    "##6.12) Crea un nuevo DataFrame a partir del original que muestre únicamente una columna con DESC_BARRIO, otra con DESC_DISTRITO y otra con el número total de \"espanoleshombres\" residentes en cada distrito de cada barrio. Únelo (con un join) con el DataFrame original a través de las columnas en común."
   ]
  },
  {
   "cell_type": "code",
   "execution_count": 0,
   "metadata": {
    "application/vnd.databricks.v1+cell": {
     "inputWidgets": {},
     "nuid": "8b7775e6-3541-4239-8060-7aecb771465c",
     "showTitle": false,
     "title": ""
    }
   },
   "outputs": [
    {
     "data": {
      "text/html": [
       "<style scoped>\n",
       "  .ansiout {\n",
       "    display: block;\n",
       "    unicode-bidi: embed;\n",
       "    white-space: pre-wrap;\n",
       "    word-wrap: break-word;\n",
       "    word-break: break-all;\n",
       "    font-family: \"Source Code Pro\", \"Menlo\", monospace;;\n",
       "    font-size: 13px;\n",
       "    color: #555;\n",
       "    margin-left: 4px;\n",
       "    line-height: 19px;\n",
       "  }\n",
       "</style>\n",
       "<div class=\"ansiout\">+------------------+------------------+-------+\n",
       "       DESC_BARRIO|     DESC_DISTRITO|num_EsH|\n",
       "+------------------+------------------+-------+\n",
       "           ACACIAS|        ARGANZUELA|  15403|\n",
       "          CANILLAS|         HORTALEZA|  16915|\n",
       "       PROSPERIDAD|         CHAMARTIN|  14485|\n",
       "           LEGAZPI|        ARGANZUELA|   8861|\n",
       "        ELSALVADOR|SANBLAS-CANILLEJAS|   4870|\n",
       "        CAMPAMENTO|            LATINA|   7121|\n",
       "          NUMANCIA|  PUENTEDEVALLECAS|  17200|\n",
       "              GOYA|         SALAMANCA|  10854|\n",
       "       UNIVERSIDAD|            CENTRO|  12542|\n",
       "      BELLASVISTAS|            TETUAN|  10202|\n",
       "               SOL|            CENTRO|   2865|\n",
       "         TRAFALGAR|          CHAMBERI|   9416|\n",
       "      CIUDADJARDIN|         CHAMARTIN|   7255|\n",
       "            ATOCHA|        ARGANZUELA|    712|\n",
       "             IBIZA|            RETIRO|   8396|\n",
       "ENSANCHEDEVALLECAS|   VILLADEVALLECAS|  22090|\n",
       "          DELICIAS|        ARGANZUELA|  11720|\n",
       "          JUSTICIA|            CENTRO|   7097|\n",
       "           ADELFAS|            RETIRO|   7994|\n",
       "          ESTRELLA|            RETIRO|  10144|\n",
       "+------------------+------------------+-------+\n",
       "only showing top 20 rows\n",
       "\n",
       "</div>"
      ]
     },
     "metadata": {
      "application/vnd.databricks.v1+output": {
       "addedWidgets": {},
       "arguments": {},
       "data": "<div class=\"ansiout\">+------------------+------------------+-------+\n|       DESC_BARRIO|     DESC_DISTRITO|num_EsH|\n+------------------+------------------+-------+\n|           ACACIAS|        ARGANZUELA|  15403|\n|          CANILLAS|         HORTALEZA|  16915|\n|       PROSPERIDAD|         CHAMARTIN|  14485|\n|           LEGAZPI|        ARGANZUELA|   8861|\n|        ELSALVADOR|SANBLAS-CANILLEJAS|   4870|\n|        CAMPAMENTO|            LATINA|   7121|\n|          NUMANCIA|  PUENTEDEVALLECAS|  17200|\n|              GOYA|         SALAMANCA|  10854|\n|       UNIVERSIDAD|            CENTRO|  12542|\n|      BELLASVISTAS|            TETUAN|  10202|\n|               SOL|            CENTRO|   2865|\n|         TRAFALGAR|          CHAMBERI|   9416|\n|      CIUDADJARDIN|         CHAMARTIN|   7255|\n|            ATOCHA|        ARGANZUELA|    712|\n|             IBIZA|            RETIRO|   8396|\n|ENSANCHEDEVALLECAS|   VILLADEVALLECAS|  22090|\n|          DELICIAS|        ARGANZUELA|  11720|\n|          JUSTICIA|            CENTRO|   7097|\n|           ADELFAS|            RETIRO|   7994|\n|          ESTRELLA|            RETIRO|  10144|\n+------------------+------------------+-------+\nonly showing top 20 rows\n\n</div>",
       "datasetInfos": [],
       "metadata": {},
       "removedWidgets": [],
       "type": "html"
      }
     },
     "output_type": "display_data"
    }
   ],
   "source": [
    "hombresDF = cleanDF.groupBy(\"DESC_BARRIO\", \"DESC_DISTRITO\").agg(F.sum(\"EspanolesHombres\").alias(\"num_EsH\"))                 \n",
    "hombresDF.show()"
   ]
  },
  {
   "cell_type": "code",
   "execution_count": 0,
   "metadata": {
    "application/vnd.databricks.v1+cell": {
     "inputWidgets": {},
     "nuid": "c99fa2fa-db6d-42f8-917a-48f05436344b",
     "showTitle": false,
     "title": ""
    }
   },
   "outputs": [
    {
     "data": {
      "text/html": [
       "<style scoped>\n",
       "  .ansiout {\n",
       "    display: block;\n",
       "    unicode-bidi: embed;\n",
       "    white-space: pre-wrap;\n",
       "    word-wrap: break-word;\n",
       "    word-break: break-all;\n",
       "    font-family: \"Source Code Pro\", \"Menlo\", monospace;;\n",
       "    font-size: 13px;\n",
       "    color: #555;\n",
       "    margin-left: 4px;\n",
       "    line-height: 19px;\n",
       "  }\n",
       "</style>\n",
       "<div class=\"ansiout\">+------------+-------------+---------------+-----------+----------+----------------+-----------+------------+----------------+----------------+------------------+------------------+-------+\n",
       "COD_DISTRITO|DESC_DISTRITO|COD_DIST_BARRIO|DESC_BARRIO|COD_BARRIO|COD_DIST_SECCION|COD_SECCION|COD_EDAD_INT|EspanolesHombres|EspanolesMujeres|ExtranjerosHombres|ExtranjerosMujeres|num_EsH|\n",
       "+------------+-------------+---------------+-----------+----------+----------------+-----------+------------+----------------+----------------+------------------+------------------+-------+\n",
       "           2|   ARGANZUELA|            202|    ACACIAS|         2|            2015|         15|           0|               2|               6|                 1|                 1|  15403|\n",
       "           2|   ARGANZUELA|            202|    ACACIAS|         2|            2015|         15|           1|               4|               6|                 1|                 0|  15403|\n",
       "           2|   ARGANZUELA|            202|    ACACIAS|         2|            2015|         15|           2|               8|               5|                 0|                 0|  15403|\n",
       "           2|   ARGANZUELA|            202|    ACACIAS|         2|            2015|         15|           3|               8|               2|                 0|                 2|  15403|\n",
       "           2|   ARGANZUELA|            202|    ACACIAS|         2|            2015|         15|           4|               7|               2|                 2|                 0|  15403|\n",
       "           2|   ARGANZUELA|            202|    ACACIAS|         2|            2015|         15|           5|              10|               8|                 0|                 1|  15403|\n",
       "           2|   ARGANZUELA|            202|    ACACIAS|         2|            2015|         15|           6|               5|               5|                 1|                 1|  15403|\n",
       "           2|   ARGANZUELA|            202|    ACACIAS|         2|            2015|         15|           7|               6|               3|                 0|                 0|  15403|\n",
       "           2|   ARGANZUELA|            202|    ACACIAS|         2|            2015|         15|           8|               4|               6|                 0|                 0|  15403|\n",
       "           2|   ARGANZUELA|            202|    ACACIAS|         2|            2015|         15|           9|               6|               1|                 0|                 0|  15403|\n",
       "           2|   ARGANZUELA|            202|    ACACIAS|         2|            2015|         15|          10|               1|              10|                 0|                 0|  15403|\n",
       "           2|   ARGANZUELA|            202|    ACACIAS|         2|            2015|         15|          11|               5|               5|                 0|                 0|  15403|\n",
       "           2|   ARGANZUELA|            202|    ACACIAS|         2|            2015|         15|          12|               3|               6|                 0|                 0|  15403|\n",
       "           2|   ARGANZUELA|            202|    ACACIAS|         2|            2015|         15|          13|               6|               4|                 0|                 0|  15403|\n",
       "           2|   ARGANZUELA|            202|    ACACIAS|         2|            2015|         15|          14|              10|               4|                 0|                 1|  15403|\n",
       "           2|   ARGANZUELA|            202|    ACACIAS|         2|            2015|         15|          15|               6|               4|                 1|                 0|  15403|\n",
       "           2|   ARGANZUELA|            202|    ACACIAS|         2|            2015|         15|          16|               2|               6|                 0|                 0|  15403|\n",
       "           2|   ARGANZUELA|            202|    ACACIAS|         2|            2015|         15|          17|              12|              10|                 0|                 0|  15403|\n",
       "           2|   ARGANZUELA|            202|    ACACIAS|         2|            2015|         15|          18|               5|              11|                 0|                 1|  15403|\n",
       "           2|   ARGANZUELA|            202|    ACACIAS|         2|            2015|         15|          19|              13|               9|                 0|                 0|  15403|\n",
       "+------------+-------------+---------------+-----------+----------+----------------+-----------+------------+----------------+----------------+------------------+------------------+-------+\n",
       "only showing top 20 rows\n",
       "\n",
       "</div>"
      ]
     },
     "metadata": {
      "application/vnd.databricks.v1+output": {
       "addedWidgets": {},
       "arguments": {},
       "data": "<div class=\"ansiout\">+------------+-------------+---------------+-----------+----------+----------------+-----------+------------+----------------+----------------+------------------+------------------+-------+\n|COD_DISTRITO|DESC_DISTRITO|COD_DIST_BARRIO|DESC_BARRIO|COD_BARRIO|COD_DIST_SECCION|COD_SECCION|COD_EDAD_INT|EspanolesHombres|EspanolesMujeres|ExtranjerosHombres|ExtranjerosMujeres|num_EsH|\n+------------+-------------+---------------+-----------+----------+----------------+-----------+------------+----------------+----------------+------------------+------------------+-------+\n|           2|   ARGANZUELA|            202|    ACACIAS|         2|            2015|         15|           0|               2|               6|                 1|                 1|  15403|\n|           2|   ARGANZUELA|            202|    ACACIAS|         2|            2015|         15|           1|               4|               6|                 1|                 0|  15403|\n|           2|   ARGANZUELA|            202|    ACACIAS|         2|            2015|         15|           2|               8|               5|                 0|                 0|  15403|\n|           2|   ARGANZUELA|            202|    ACACIAS|         2|            2015|         15|           3|               8|               2|                 0|                 2|  15403|\n|           2|   ARGANZUELA|            202|    ACACIAS|         2|            2015|         15|           4|               7|               2|                 2|                 0|  15403|\n|           2|   ARGANZUELA|            202|    ACACIAS|         2|            2015|         15|           5|              10|               8|                 0|                 1|  15403|\n|           2|   ARGANZUELA|            202|    ACACIAS|         2|            2015|         15|           6|               5|               5|                 1|                 1|  15403|\n|           2|   ARGANZUELA|            202|    ACACIAS|         2|            2015|         15|           7|               6|               3|                 0|                 0|  15403|\n|           2|   ARGANZUELA|            202|    ACACIAS|         2|            2015|         15|           8|               4|               6|                 0|                 0|  15403|\n|           2|   ARGANZUELA|            202|    ACACIAS|         2|            2015|         15|           9|               6|               1|                 0|                 0|  15403|\n|           2|   ARGANZUELA|            202|    ACACIAS|         2|            2015|         15|          10|               1|              10|                 0|                 0|  15403|\n|           2|   ARGANZUELA|            202|    ACACIAS|         2|            2015|         15|          11|               5|               5|                 0|                 0|  15403|\n|           2|   ARGANZUELA|            202|    ACACIAS|         2|            2015|         15|          12|               3|               6|                 0|                 0|  15403|\n|           2|   ARGANZUELA|            202|    ACACIAS|         2|            2015|         15|          13|               6|               4|                 0|                 0|  15403|\n|           2|   ARGANZUELA|            202|    ACACIAS|         2|            2015|         15|          14|              10|               4|                 0|                 1|  15403|\n|           2|   ARGANZUELA|            202|    ACACIAS|         2|            2015|         15|          15|               6|               4|                 1|                 0|  15403|\n|           2|   ARGANZUELA|            202|    ACACIAS|         2|            2015|         15|          16|               2|               6|                 0|                 0|  15403|\n|           2|   ARGANZUELA|            202|    ACACIAS|         2|            2015|         15|          17|              12|              10|                 0|                 0|  15403|\n|           2|   ARGANZUELA|            202|    ACACIAS|         2|            2015|         15|          18|               5|              11|                 0|                 1|  15403|\n|           2|   ARGANZUELA|            202|    ACACIAS|         2|            2015|         15|          19|              13|               9|                 0|                 0|  15403|\n+------------+-------------+---------------+-----------+----------+----------------+-----------+------------+----------------+----------------+------------------+------------------+-------+\nonly showing top 20 rows\n\n</div>",
       "datasetInfos": [],
       "metadata": {},
       "removedWidgets": [],
       "type": "html"
      }
     },
     "output_type": "display_data"
    }
   ],
   "source": [
    "df_join = cleanDF.join(hombresDF, ((cleanDF[\"DESC_BARRIO\"]==hombresDF[\"DESC_BARRIO\"]) & (cleanDF[\"DESC_DISTRITO\"]==hombresDF[\"DESC_DISTRITO\"])), how=\"left_outer\").select(cleanDF[\"*\"], hombresDF[\"num_EsH\"])\n",
    "df_join.select(\"*\").show()"
   ]
  },
  {
   "cell_type": "code",
   "execution_count": 0,
   "metadata": {
    "application/vnd.databricks.v1+cell": {
     "inputWidgets": {},
     "nuid": "ccce9e6b-45b0-4783-863a-c4049fbf7574",
     "showTitle": false,
     "title": ""
    }
   },
   "outputs": [],
   "source": [
    "## 6.13) Repite la función anterior utilizando funciones de ventana. (over(Window.partitionBy.....))."
   ]
  },
  {
   "cell_type": "code",
   "execution_count": 0,
   "metadata": {
    "application/vnd.databricks.v1+cell": {
     "inputWidgets": {},
     "nuid": "1adfcb34-2c76-4727-a4dd-09dfa8c8fc6b",
     "showTitle": false,
     "title": ""
    }
   },
   "outputs": [
    {
     "data": {
      "text/html": [
       "<style scoped>\n",
       "  .ansiout {\n",
       "    display: block;\n",
       "    unicode-bidi: embed;\n",
       "    white-space: pre-wrap;\n",
       "    word-wrap: break-word;\n",
       "    word-break: break-all;\n",
       "    font-family: \"Source Code Pro\", \"Menlo\", monospace;;\n",
       "    font-size: 13px;\n",
       "    color: #555;\n",
       "    margin-left: 4px;\n",
       "    line-height: 19px;\n",
       "  }\n",
       "</style>\n",
       "<div class=\"ansiout\"></div>"
      ]
     },
     "metadata": {
      "application/vnd.databricks.v1+output": {
       "addedWidgets": {},
       "arguments": {},
       "data": "<div class=\"ansiout\"></div>",
       "datasetInfos": [],
       "metadata": {},
       "removedWidgets": [],
       "type": "html"
      }
     },
     "output_type": "display_data"
    }
   ],
   "source": [
    "from pyspark.sql.window import Window"
   ]
  },
  {
   "cell_type": "code",
   "execution_count": 0,
   "metadata": {
    "application/vnd.databricks.v1+cell": {
     "inputWidgets": {},
     "nuid": "af9294e0-6de2-4a8c-bddb-45dde17484f1",
     "showTitle": false,
     "title": ""
    }
   },
   "outputs": [
    {
     "data": {
      "text/html": [
       "<style scoped>\n",
       "  .ansiout {\n",
       "    display: block;\n",
       "    unicode-bidi: embed;\n",
       "    white-space: pre-wrap;\n",
       "    word-wrap: break-word;\n",
       "    word-break: break-all;\n",
       "    font-family: \"Source Code Pro\", \"Menlo\", monospace;;\n",
       "    font-size: 13px;\n",
       "    color: #555;\n",
       "    margin-left: 4px;\n",
       "    line-height: 19px;\n",
       "  }\n",
       "</style>\n",
       "<div class=\"ansiout\">+------------+-------------+---------------+-----------+----------+----------------+-----------+------------+----------------+----------------+------------------+------------------+-------+\n",
       "COD_DISTRITO|DESC_DISTRITO|COD_DIST_BARRIO|DESC_BARRIO|COD_BARRIO|COD_DIST_SECCION|COD_SECCION|COD_EDAD_INT|EspanolesHombres|EspanolesMujeres|ExtranjerosHombres|ExtranjerosMujeres|Num_EsH|\n",
       "+------------+-------------+---------------+-----------+----------+----------------+-----------+------------+----------------+----------------+------------------+------------------+-------+\n",
       "           2|   ARGANZUELA|            202|    ACACIAS|         2|            2015|         15|           0|               2|               6|                 1|                 1|  15403|\n",
       "           2|   ARGANZUELA|            202|    ACACIAS|         2|            2015|         15|           1|               4|               6|                 1|                 0|  15403|\n",
       "           2|   ARGANZUELA|            202|    ACACIAS|         2|            2015|         15|           2|               8|               5|                 0|                 0|  15403|\n",
       "           2|   ARGANZUELA|            202|    ACACIAS|         2|            2015|         15|           3|               8|               2|                 0|                 2|  15403|\n",
       "           2|   ARGANZUELA|            202|    ACACIAS|         2|            2015|         15|           4|               7|               2|                 2|                 0|  15403|\n",
       "           2|   ARGANZUELA|            202|    ACACIAS|         2|            2015|         15|           5|              10|               8|                 0|                 1|  15403|\n",
       "           2|   ARGANZUELA|            202|    ACACIAS|         2|            2015|         15|           6|               5|               5|                 1|                 1|  15403|\n",
       "           2|   ARGANZUELA|            202|    ACACIAS|         2|            2015|         15|           7|               6|               3|                 0|                 0|  15403|\n",
       "           2|   ARGANZUELA|            202|    ACACIAS|         2|            2015|         15|           8|               4|               6|                 0|                 0|  15403|\n",
       "           2|   ARGANZUELA|            202|    ACACIAS|         2|            2015|         15|           9|               6|               1|                 0|                 0|  15403|\n",
       "           2|   ARGANZUELA|            202|    ACACIAS|         2|            2015|         15|          10|               1|              10|                 0|                 0|  15403|\n",
       "           2|   ARGANZUELA|            202|    ACACIAS|         2|            2015|         15|          11|               5|               5|                 0|                 0|  15403|\n",
       "           2|   ARGANZUELA|            202|    ACACIAS|         2|            2015|         15|          12|               3|               6|                 0|                 0|  15403|\n",
       "           2|   ARGANZUELA|            202|    ACACIAS|         2|            2015|         15|          13|               6|               4|                 0|                 0|  15403|\n",
       "           2|   ARGANZUELA|            202|    ACACIAS|         2|            2015|         15|          14|              10|               4|                 0|                 1|  15403|\n",
       "           2|   ARGANZUELA|            202|    ACACIAS|         2|            2015|         15|          15|               6|               4|                 1|                 0|  15403|\n",
       "           2|   ARGANZUELA|            202|    ACACIAS|         2|            2015|         15|          16|               2|               6|                 0|                 0|  15403|\n",
       "           2|   ARGANZUELA|            202|    ACACIAS|         2|            2015|         15|          17|              12|              10|                 0|                 0|  15403|\n",
       "           2|   ARGANZUELA|            202|    ACACIAS|         2|            2015|         15|          18|               5|              11|                 0|                 1|  15403|\n",
       "           2|   ARGANZUELA|            202|    ACACIAS|         2|            2015|         15|          19|              13|               9|                 0|                 0|  15403|\n",
       "+------------+-------------+---------------+-----------+----------+----------------+-----------+------------+----------------+----------------+------------------+------------------+-------+\n",
       "only showing top 20 rows\n",
       "\n",
       "</div>"
      ]
     },
     "metadata": {
      "application/vnd.databricks.v1+output": {
       "addedWidgets": {},
       "arguments": {},
       "data": "<div class=\"ansiout\">+------------+-------------+---------------+-----------+----------+----------------+-----------+------------+----------------+----------------+------------------+------------------+-------+\n|COD_DISTRITO|DESC_DISTRITO|COD_DIST_BARRIO|DESC_BARRIO|COD_BARRIO|COD_DIST_SECCION|COD_SECCION|COD_EDAD_INT|EspanolesHombres|EspanolesMujeres|ExtranjerosHombres|ExtranjerosMujeres|Num_EsH|\n+------------+-------------+---------------+-----------+----------+----------------+-----------+------------+----------------+----------------+------------------+------------------+-------+\n|           2|   ARGANZUELA|            202|    ACACIAS|         2|            2015|         15|           0|               2|               6|                 1|                 1|  15403|\n|           2|   ARGANZUELA|            202|    ACACIAS|         2|            2015|         15|           1|               4|               6|                 1|                 0|  15403|\n|           2|   ARGANZUELA|            202|    ACACIAS|         2|            2015|         15|           2|               8|               5|                 0|                 0|  15403|\n|           2|   ARGANZUELA|            202|    ACACIAS|         2|            2015|         15|           3|               8|               2|                 0|                 2|  15403|\n|           2|   ARGANZUELA|            202|    ACACIAS|         2|            2015|         15|           4|               7|               2|                 2|                 0|  15403|\n|           2|   ARGANZUELA|            202|    ACACIAS|         2|            2015|         15|           5|              10|               8|                 0|                 1|  15403|\n|           2|   ARGANZUELA|            202|    ACACIAS|         2|            2015|         15|           6|               5|               5|                 1|                 1|  15403|\n|           2|   ARGANZUELA|            202|    ACACIAS|         2|            2015|         15|           7|               6|               3|                 0|                 0|  15403|\n|           2|   ARGANZUELA|            202|    ACACIAS|         2|            2015|         15|           8|               4|               6|                 0|                 0|  15403|\n|           2|   ARGANZUELA|            202|    ACACIAS|         2|            2015|         15|           9|               6|               1|                 0|                 0|  15403|\n|           2|   ARGANZUELA|            202|    ACACIAS|         2|            2015|         15|          10|               1|              10|                 0|                 0|  15403|\n|           2|   ARGANZUELA|            202|    ACACIAS|         2|            2015|         15|          11|               5|               5|                 0|                 0|  15403|\n|           2|   ARGANZUELA|            202|    ACACIAS|         2|            2015|         15|          12|               3|               6|                 0|                 0|  15403|\n|           2|   ARGANZUELA|            202|    ACACIAS|         2|            2015|         15|          13|               6|               4|                 0|                 0|  15403|\n|           2|   ARGANZUELA|            202|    ACACIAS|         2|            2015|         15|          14|              10|               4|                 0|                 1|  15403|\n|           2|   ARGANZUELA|            202|    ACACIAS|         2|            2015|         15|          15|               6|               4|                 1|                 0|  15403|\n|           2|   ARGANZUELA|            202|    ACACIAS|         2|            2015|         15|          16|               2|               6|                 0|                 0|  15403|\n|           2|   ARGANZUELA|            202|    ACACIAS|         2|            2015|         15|          17|              12|              10|                 0|                 0|  15403|\n|           2|   ARGANZUELA|            202|    ACACIAS|         2|            2015|         15|          18|               5|              11|                 0|                 1|  15403|\n|           2|   ARGANZUELA|            202|    ACACIAS|         2|            2015|         15|          19|              13|               9|                 0|                 0|  15403|\n+------------+-------------+---------------+-----------+----------+----------------+-----------+------------+----------------+----------------+------------------+------------------+-------+\nonly showing top 20 rows\n\n</div>",
       "datasetInfos": [],
       "metadata": {},
       "removedWidgets": [],
       "type": "html"
      }
     },
     "output_type": "display_data"
    }
   ],
   "source": [
    "particion = Window.partitionBy(\"DESC_BARRIO\", \"DESC_DISTRITO\")\n",
    "cleanDF.withColumn(\"Num_EsH\", F.sum(\"EspanolesHombres\").over(particion)).select(\"*\").show()"
   ]
  },
  {
   "cell_type": "code",
   "execution_count": 0,
   "metadata": {
    "application/vnd.databricks.v1+cell": {
     "inputWidgets": {},
     "nuid": "bc7dfb21-f172-4c29-a543-5a0c7afae777",
     "showTitle": false,
     "title": ""
    }
   },
   "outputs": [],
   "source": [
    "## 6.14) Mediante una función Pivot muestra una tabla (que va a ser una tabla de contingencia) que contenga los valores totales ()la suma de valores) de espanolesmujeres para cada distrito y en cada rango de edad (COD_EDAD_INT). Los distritos incluidos deben ser únicamente CENTRO, BARAJAS y RETIRO y deben figurar como columnas "
   ]
  },
  {
   "cell_type": "code",
   "execution_count": 0,
   "metadata": {
    "application/vnd.databricks.v1+cell": {
     "inputWidgets": {},
     "nuid": "21ee8fc1-f18d-46c1-9453-2f61f3eb2b5a",
     "showTitle": false,
     "title": ""
    }
   },
   "outputs": [
    {
     "data": {
      "text/html": [
       "<style scoped>\n",
       "  .ansiout {\n",
       "    display: block;\n",
       "    unicode-bidi: embed;\n",
       "    white-space: pre-wrap;\n",
       "    word-wrap: break-word;\n",
       "    word-break: break-all;\n",
       "    font-family: \"Source Code Pro\", \"Menlo\", monospace;;\n",
       "    font-size: 13px;\n",
       "    color: #555;\n",
       "    margin-left: 4px;\n",
       "    line-height: 19px;\n",
       "  }\n",
       "</style>\n",
       "<div class=\"ansiout\">+-------------+\n",
       "DESC_DISTRITO|\n",
       "+-------------+\n",
       "       RETIRO|\n",
       "       CENTRO|\n",
       "      BARAJAS|\n",
       "+-------------+\n",
       "\n",
       "</div>"
      ]
     },
     "metadata": {
      "application/vnd.databricks.v1+output": {
       "addedWidgets": {},
       "arguments": {},
       "data": "<div class=\"ansiout\">+-------------+\n|DESC_DISTRITO|\n+-------------+\n|       RETIRO|\n|       CENTRO|\n|      BARAJAS|\n+-------------+\n\n</div>",
       "datasetInfos": [],
       "metadata": {},
       "removedWidgets": [],
       "type": "html"
      }
     },
     "output_type": "display_data"
    }
   ],
   "source": [
    "distritos= cleanDF.where((cleanDF.DESC_DISTRITO=='CENTRO') | (cleanDF.DESC_DISTRITO=='BARAJAS') | (cleanDF.DESC_DISTRITO=='RETIRO'))\n",
    "distritos.select(\"DESC_DISTRITO\").distinct().show()"
   ]
  },
  {
   "cell_type": "code",
   "execution_count": 0,
   "metadata": {
    "application/vnd.databricks.v1+cell": {
     "inputWidgets": {},
     "nuid": "6b794bd6-60a6-437b-9ca2-6a2baa18fd4c",
     "showTitle": false,
     "title": ""
    }
   },
   "outputs": [
    {
     "data": {
      "text/html": [
       "<style scoped>\n",
       "  .ansiout {\n",
       "    display: block;\n",
       "    unicode-bidi: embed;\n",
       "    white-space: pre-wrap;\n",
       "    word-wrap: break-word;\n",
       "    word-break: break-all;\n",
       "    font-family: \"Source Code Pro\", \"Menlo\", monospace;;\n",
       "    font-size: 13px;\n",
       "    color: #555;\n",
       "    margin-left: 4px;\n",
       "    line-height: 19px;\n",
       "  }\n",
       "</style>\n",
       "<div class=\"ansiout\">+------------+-------+------+------+\n",
       "COD_EDAD_INT|BARAJAS|CENTRO|RETIRO|\n",
       "+------------+-------+------+------+\n",
       "           0|    157|   245|   283|\n",
       "           1|    196|   243|   368|\n",
       "           2|    179|   241|   382|\n",
       "           3|    231|   232|   399|\n",
       "           4|    235|   246|   416|\n",
       "           5|    275|   232|   390|\n",
       "           6|    236|   262|   474|\n",
       "           7|    256|   227|   420|\n",
       "           8|    244|   257|   421|\n",
       "           9|    276|   254|   457|\n",
       "          10|    254|   255|   409|\n",
       "          11|    256|   253|   403|\n",
       "          12|    278|   283|   448|\n",
       "          13|    269|   247|   420|\n",
       "          14|    265|   249|   424|\n",
       "          15|    284|   279|   408|\n",
       "          16|    256|   241|   416|\n",
       "          17|    247|   274|   451|\n",
       "          18|    249|   288|   385|\n",
       "          19|    208|   254|   450|\n",
       "+------------+-------+------+------+\n",
       "only showing top 20 rows\n",
       "\n",
       "</div>"
      ]
     },
     "metadata": {
      "application/vnd.databricks.v1+output": {
       "addedWidgets": {},
       "arguments": {},
       "data": "<div class=\"ansiout\">+------------+-------+------+------+\n|COD_EDAD_INT|BARAJAS|CENTRO|RETIRO|\n+------------+-------+------+------+\n|           0|    157|   245|   283|\n|           1|    196|   243|   368|\n|           2|    179|   241|   382|\n|           3|    231|   232|   399|\n|           4|    235|   246|   416|\n|           5|    275|   232|   390|\n|           6|    236|   262|   474|\n|           7|    256|   227|   420|\n|           8|    244|   257|   421|\n|           9|    276|   254|   457|\n|          10|    254|   255|   409|\n|          11|    256|   253|   403|\n|          12|    278|   283|   448|\n|          13|    269|   247|   420|\n|          14|    265|   249|   424|\n|          15|    284|   279|   408|\n|          16|    256|   241|   416|\n|          17|    247|   274|   451|\n|          18|    249|   288|   385|\n|          19|    208|   254|   450|\n+------------+-------+------+------+\nonly showing top 20 rows\n\n</div>",
       "datasetInfos": [],
       "metadata": {},
       "removedWidgets": [],
       "type": "html"
      }
     },
     "output_type": "display_data"
    }
   ],
   "source": [
    "distritosmujeres = distritos.groupBy(\"COD_EDAD_INT\")\\\n",
    "                   .pivot(\"DESC_DISTRITO\")\\\n",
    "                   .agg(F.sum(\"EspanolesMujeres\"))\\\n",
    "                   .sort(\"COD_EDAD_INT\")\n",
    "distritosmujeres.show()"
   ]
  },
  {
   "cell_type": "code",
   "execution_count": 0,
   "metadata": {
    "application/vnd.databricks.v1+cell": {
     "inputWidgets": {},
     "nuid": "0c4f7fb7-ac8c-4298-b199-0bb480143028",
     "showTitle": false,
     "title": ""
    }
   },
   "outputs": [],
   "source": [
    "## 6.15) Utilizando este nuevo DF, crea 3 columnas nuevas que hagan referencia a qué porcentaje de la suma de \"espanolesmujeres\" en los tres distritos para cada rango de edad representa cada uno de los tres distritos. Debe estar redondeada a 2 decimales. Puedes imponerte la condición extra de no apoyarte en ninguna columna auxiliar creada para el caso.\n"
   ]
  },
  {
   "cell_type": "code",
   "execution_count": 0,
   "metadata": {
    "application/vnd.databricks.v1+cell": {
     "inputWidgets": {},
     "nuid": "ead53c34-4995-4a3a-8ca2-af99e3b5ab14",
     "showTitle": false,
     "title": ""
    }
   },
   "outputs": [
    {
     "data": {
      "text/html": [
       "<style scoped>\n",
       "  .ansiout {\n",
       "    display: block;\n",
       "    unicode-bidi: embed;\n",
       "    white-space: pre-wrap;\n",
       "    word-wrap: break-word;\n",
       "    word-break: break-all;\n",
       "    font-family: \"Source Code Pro\", \"Menlo\", monospace;;\n",
       "    font-size: 13px;\n",
       "    color: #555;\n",
       "    margin-left: 4px;\n",
       "    line-height: 19px;\n",
       "  }\n",
       "</style>\n",
       "<div class=\"ansiout\">+------------+-------+------+------+-----+--------+-------+-------+\n",
       "COD_EDAD_INT|BARAJAS|CENTRO|RETIRO|total|%BAJARAS|%CENTRO|%RETIRO|\n",
       "+------------+-------+------+------+-----+--------+-------+-------+\n",
       "           0|    157|   245|   283|  685|    0.23|   0.36|   0.41|\n",
       "           1|    196|   243|   368|  807|    0.24|    0.3|   0.46|\n",
       "           2|    179|   241|   382|  802|    0.22|    0.3|   0.48|\n",
       "           3|    231|   232|   399|  862|    0.27|   0.27|   0.46|\n",
       "           4|    235|   246|   416|  897|    0.26|   0.27|   0.46|\n",
       "           5|    275|   232|   390|  897|    0.31|   0.26|   0.43|\n",
       "           6|    236|   262|   474|  972|    0.24|   0.27|   0.49|\n",
       "           7|    256|   227|   420|  903|    0.28|   0.25|   0.47|\n",
       "           8|    244|   257|   421|  922|    0.26|   0.28|   0.46|\n",
       "           9|    276|   254|   457|  987|    0.28|   0.26|   0.46|\n",
       "          10|    254|   255|   409|  918|    0.28|   0.28|   0.45|\n",
       "          11|    256|   253|   403|  912|    0.28|   0.28|   0.44|\n",
       "          12|    278|   283|   448| 1009|    0.28|   0.28|   0.44|\n",
       "          13|    269|   247|   420|  936|    0.29|   0.26|   0.45|\n",
       "          14|    265|   249|   424|  938|    0.28|   0.27|   0.45|\n",
       "          15|    284|   279|   408|  971|    0.29|   0.29|   0.42|\n",
       "          16|    256|   241|   416|  913|    0.28|   0.26|   0.46|\n",
       "          17|    247|   274|   451|  972|    0.25|   0.28|   0.46|\n",
       "          18|    249|   288|   385|  922|    0.27|   0.31|   0.42|\n",
       "          19|    208|   254|   450|  912|    0.23|   0.28|   0.49|\n",
       "+------------+-------+------+------+-----+--------+-------+-------+\n",
       "only showing top 20 rows\n",
       "\n",
       "</div>"
      ]
     },
     "metadata": {
      "application/vnd.databricks.v1+output": {
       "addedWidgets": {},
       "arguments": {},
       "data": "<div class=\"ansiout\">+------------+-------+------+------+-----+--------+-------+-------+\n|COD_EDAD_INT|BARAJAS|CENTRO|RETIRO|total|%BAJARAS|%CENTRO|%RETIRO|\n+------------+-------+------+------+-----+--------+-------+-------+\n|           0|    157|   245|   283|  685|    0.23|   0.36|   0.41|\n|           1|    196|   243|   368|  807|    0.24|    0.3|   0.46|\n|           2|    179|   241|   382|  802|    0.22|    0.3|   0.48|\n|           3|    231|   232|   399|  862|    0.27|   0.27|   0.46|\n|           4|    235|   246|   416|  897|    0.26|   0.27|   0.46|\n|           5|    275|   232|   390|  897|    0.31|   0.26|   0.43|\n|           6|    236|   262|   474|  972|    0.24|   0.27|   0.49|\n|           7|    256|   227|   420|  903|    0.28|   0.25|   0.47|\n|           8|    244|   257|   421|  922|    0.26|   0.28|   0.46|\n|           9|    276|   254|   457|  987|    0.28|   0.26|   0.46|\n|          10|    254|   255|   409|  918|    0.28|   0.28|   0.45|\n|          11|    256|   253|   403|  912|    0.28|   0.28|   0.44|\n|          12|    278|   283|   448| 1009|    0.28|   0.28|   0.44|\n|          13|    269|   247|   420|  936|    0.29|   0.26|   0.45|\n|          14|    265|   249|   424|  938|    0.28|   0.27|   0.45|\n|          15|    284|   279|   408|  971|    0.29|   0.29|   0.42|\n|          16|    256|   241|   416|  913|    0.28|   0.26|   0.46|\n|          17|    247|   274|   451|  972|    0.25|   0.28|   0.46|\n|          18|    249|   288|   385|  922|    0.27|   0.31|   0.42|\n|          19|    208|   254|   450|  912|    0.23|   0.28|   0.49|\n+------------+-------+------+------+-----+--------+-------+-------+\nonly showing top 20 rows\n\n</div>",
       "datasetInfos": [],
       "metadata": {},
       "removedWidgets": [],
       "type": "html"
      }
     },
     "output_type": "display_data"
    }
   ],
   "source": [
    "distritosmujeres.withColumn(\"total\", F.col(\"BARAJAS\")+ F.col(\"CENTRO\")+F.col(\"RETIRO\"))\\\n",
    "               .withColumn(\"%BAJARAS\", F.round((F.col(\"BARAJAS\")/F.col(\"total\")),2))\\\n",
    "               .withColumn(\"%CENTRO\", F.round((F.col(\"CENTRO\")/F.col(\"total\")),2))\\\n",
    "               .withColumn(\"%RETIRO\", F.round((F.col(\"RETIRO\")/F.col(\"total\")),2))\\\n",
    "               .show()"
   ]
  },
  {
   "cell_type": "code",
   "execution_count": 0,
   "metadata": {
    "application/vnd.databricks.v1+cell": {
     "inputWidgets": {},
     "nuid": "a6246e84-d1cd-4b28-ae9f-410bcf4b6f85",
     "showTitle": false,
     "title": ""
    }
   },
   "outputs": [],
   "source": [
    "## 6.16) Guarda el archivo csv original particionado por distrito y por barrio (en ese orden) en un directorio local. Consulta el directorio para ver la estructura de los ficheros y comprueba que es la esperada."
   ]
  },
  {
   "cell_type": "code",
   "execution_count": 0,
   "metadata": {
    "application/vnd.databricks.v1+cell": {
     "inputWidgets": {},
     "nuid": "90e7e7da-4d33-408e-9d97-ab1e1d4d9a9d",
     "showTitle": false,
     "title": ""
    }
   },
   "outputs": [
    {
     "data": {
      "text/html": [
       "<style scoped>\n",
       "  .ansiout {\n",
       "    display: block;\n",
       "    unicode-bidi: embed;\n",
       "    white-space: pre-wrap;\n",
       "    word-wrap: break-word;\n",
       "    word-break: break-all;\n",
       "    font-family: \"Source Code Pro\", \"Menlo\", monospace;;\n",
       "    font-size: 13px;\n",
       "    color: #555;\n",
       "    margin-left: 4px;\n",
       "    line-height: 19px;\n",
       "  }\n",
       "</style>\n",
       "<div class=\"ansiout\"></div>"
      ]
     },
     "metadata": {
      "application/vnd.databricks.v1+output": {
       "addedWidgets": {},
       "arguments": {},
       "data": "<div class=\"ansiout\"></div>",
       "datasetInfos": [],
       "metadata": {},
       "removedWidgets": [],
       "type": "html"
      }
     },
     "output_type": "display_data"
    }
   ],
   "source": [
    "cleanDF.write.partitionBy(\"COD_DISTRITO\", \"COD_BARRIO\").format(\"csv\").save(\"dbfs:/FileStore/shared_uploads/nerea.gomez@bosonit.com/csv_path\")"
   ]
  },
  {
   "cell_type": "code",
   "execution_count": 0,
   "metadata": {
    "application/vnd.databricks.v1+cell": {
     "inputWidgets": {},
     "nuid": "372ff2e4-c4a5-47c5-83e8-e277d010ae86",
     "showTitle": false,
     "title": ""
    }
   },
   "outputs": [],
   "source": [
    "## 6.17) Haz el mismo guardado pero en formato parquet. Compara el peso del archivo con el resultado anterior."
   ]
  },
  {
   "cell_type": "code",
   "execution_count": 0,
   "metadata": {
    "application/vnd.databricks.v1+cell": {
     "inputWidgets": {},
     "nuid": "135ec9bb-78a5-447d-9ec8-6b6d35591d89",
     "showTitle": false,
     "title": ""
    }
   },
   "outputs": [
    {
     "data": {
      "text/html": [
       "<style scoped>\n",
       "  .ansiout {\n",
       "    display: block;\n",
       "    unicode-bidi: embed;\n",
       "    white-space: pre-wrap;\n",
       "    word-wrap: break-word;\n",
       "    word-break: break-all;\n",
       "    font-family: \"Source Code Pro\", \"Menlo\", monospace;;\n",
       "    font-size: 13px;\n",
       "    color: #555;\n",
       "    margin-left: 4px;\n",
       "    line-height: 19px;\n",
       "  }\n",
       "</style>\n",
       "<div class=\"ansiout\"></div>"
      ]
     },
     "metadata": {
      "application/vnd.databricks.v1+output": {
       "addedWidgets": {},
       "arguments": {},
       "data": "<div class=\"ansiout\"></div>",
       "datasetInfos": [],
       "metadata": {},
       "removedWidgets": [],
       "type": "html"
      }
     },
     "output_type": "display_data"
    }
   ],
   "source": [
    "cleanDF.write.partitionBy(\"COD_DISTRITO\", \"COD_BARRIO\").format(\"parquet\").save(\"dbfs:/FileStore/shared_uploads/nerea.gomez@bosonit.com/parquet_path\")"
   ]
  },
  {
   "cell_type": "code",
   "execution_count": 0,
   "metadata": {
    "application/vnd.databricks.v1+cell": {
     "inputWidgets": {},
     "nuid": "bd4ed513-fc98-4852-b353-b3b6686e656d",
     "showTitle": false,
     "title": ""
    }
   },
   "outputs": [
    {
     "data": {
      "text/html": [
       "<style scoped>\n",
       "  .table-result-container {\n",
       "    max-height: 300px;\n",
       "    overflow: auto;\n",
       "  }\n",
       "  table, th, td {\n",
       "    border: 1px solid black;\n",
       "    border-collapse: collapse;\n",
       "  }\n",
       "  th, td {\n",
       "    padding: 5px;\n",
       "  }\n",
       "  th {\n",
       "    text-align: left;\n",
       "  }\n",
       "</style><div class='table-result-container'><table class='table-result'><thead style='background-color: white'><tr><th>path</th><th>name</th><th>size</th></tr></thead><tbody><tr><td>dbfs:/FileStore/shared_uploads/nerea.gomez@bosonit.com/parquet_path/COD_DISTRITO=1/</td><td>COD_DISTRITO=1/</td><td>0</td></tr><tr><td>dbfs:/FileStore/shared_uploads/nerea.gomez@bosonit.com/parquet_path/COD_DISTRITO=10/</td><td>COD_DISTRITO=10/</td><td>0</td></tr><tr><td>dbfs:/FileStore/shared_uploads/nerea.gomez@bosonit.com/parquet_path/COD_DISTRITO=11/</td><td>COD_DISTRITO=11/</td><td>0</td></tr><tr><td>dbfs:/FileStore/shared_uploads/nerea.gomez@bosonit.com/parquet_path/COD_DISTRITO=12/</td><td>COD_DISTRITO=12/</td><td>0</td></tr><tr><td>dbfs:/FileStore/shared_uploads/nerea.gomez@bosonit.com/parquet_path/COD_DISTRITO=13/</td><td>COD_DISTRITO=13/</td><td>0</td></tr><tr><td>dbfs:/FileStore/shared_uploads/nerea.gomez@bosonit.com/parquet_path/COD_DISTRITO=14/</td><td>COD_DISTRITO=14/</td><td>0</td></tr><tr><td>dbfs:/FileStore/shared_uploads/nerea.gomez@bosonit.com/parquet_path/COD_DISTRITO=15/</td><td>COD_DISTRITO=15/</td><td>0</td></tr><tr><td>dbfs:/FileStore/shared_uploads/nerea.gomez@bosonit.com/parquet_path/COD_DISTRITO=16/</td><td>COD_DISTRITO=16/</td><td>0</td></tr><tr><td>dbfs:/FileStore/shared_uploads/nerea.gomez@bosonit.com/parquet_path/COD_DISTRITO=17/</td><td>COD_DISTRITO=17/</td><td>0</td></tr><tr><td>dbfs:/FileStore/shared_uploads/nerea.gomez@bosonit.com/parquet_path/COD_DISTRITO=18/</td><td>COD_DISTRITO=18/</td><td>0</td></tr><tr><td>dbfs:/FileStore/shared_uploads/nerea.gomez@bosonit.com/parquet_path/COD_DISTRITO=19/</td><td>COD_DISTRITO=19/</td><td>0</td></tr><tr><td>dbfs:/FileStore/shared_uploads/nerea.gomez@bosonit.com/parquet_path/COD_DISTRITO=2/</td><td>COD_DISTRITO=2/</td><td>0</td></tr><tr><td>dbfs:/FileStore/shared_uploads/nerea.gomez@bosonit.com/parquet_path/COD_DISTRITO=20/</td><td>COD_DISTRITO=20/</td><td>0</td></tr><tr><td>dbfs:/FileStore/shared_uploads/nerea.gomez@bosonit.com/parquet_path/COD_DISTRITO=21/</td><td>COD_DISTRITO=21/</td><td>0</td></tr><tr><td>dbfs:/FileStore/shared_uploads/nerea.gomez@bosonit.com/parquet_path/COD_DISTRITO=3/</td><td>COD_DISTRITO=3/</td><td>0</td></tr><tr><td>dbfs:/FileStore/shared_uploads/nerea.gomez@bosonit.com/parquet_path/COD_DISTRITO=4/</td><td>COD_DISTRITO=4/</td><td>0</td></tr><tr><td>dbfs:/FileStore/shared_uploads/nerea.gomez@bosonit.com/parquet_path/COD_DISTRITO=5/</td><td>COD_DISTRITO=5/</td><td>0</td></tr><tr><td>dbfs:/FileStore/shared_uploads/nerea.gomez@bosonit.com/parquet_path/COD_DISTRITO=6/</td><td>COD_DISTRITO=6/</td><td>0</td></tr><tr><td>dbfs:/FileStore/shared_uploads/nerea.gomez@bosonit.com/parquet_path/COD_DISTRITO=7/</td><td>COD_DISTRITO=7/</td><td>0</td></tr><tr><td>dbfs:/FileStore/shared_uploads/nerea.gomez@bosonit.com/parquet_path/COD_DISTRITO=8/</td><td>COD_DISTRITO=8/</td><td>0</td></tr><tr><td>dbfs:/FileStore/shared_uploads/nerea.gomez@bosonit.com/parquet_path/COD_DISTRITO=9/</td><td>COD_DISTRITO=9/</td><td>0</td></tr><tr><td>dbfs:/FileStore/shared_uploads/nerea.gomez@bosonit.com/parquet_path/_SUCCESS</td><td>_SUCCESS</td><td>0</td></tr></tbody></table></div>"
      ]
     },
     "metadata": {
      "application/vnd.databricks.v1+output": {
       "addedWidgets": {},
       "aggData": [],
       "aggError": "",
       "aggOverflow": false,
       "aggSchema": [],
       "aggSeriesLimitReached": false,
       "aggType": "",
       "arguments": {},
       "columnCustomDisplayInfos": {},
       "data": [
        [
         "dbfs:/FileStore/shared_uploads/nerea.gomez@bosonit.com/parquet_path/COD_DISTRITO=1/",
         "COD_DISTRITO=1/",
         0
        ],
        [
         "dbfs:/FileStore/shared_uploads/nerea.gomez@bosonit.com/parquet_path/COD_DISTRITO=10/",
         "COD_DISTRITO=10/",
         0
        ],
        [
         "dbfs:/FileStore/shared_uploads/nerea.gomez@bosonit.com/parquet_path/COD_DISTRITO=11/",
         "COD_DISTRITO=11/",
         0
        ],
        [
         "dbfs:/FileStore/shared_uploads/nerea.gomez@bosonit.com/parquet_path/COD_DISTRITO=12/",
         "COD_DISTRITO=12/",
         0
        ],
        [
         "dbfs:/FileStore/shared_uploads/nerea.gomez@bosonit.com/parquet_path/COD_DISTRITO=13/",
         "COD_DISTRITO=13/",
         0
        ],
        [
         "dbfs:/FileStore/shared_uploads/nerea.gomez@bosonit.com/parquet_path/COD_DISTRITO=14/",
         "COD_DISTRITO=14/",
         0
        ],
        [
         "dbfs:/FileStore/shared_uploads/nerea.gomez@bosonit.com/parquet_path/COD_DISTRITO=15/",
         "COD_DISTRITO=15/",
         0
        ],
        [
         "dbfs:/FileStore/shared_uploads/nerea.gomez@bosonit.com/parquet_path/COD_DISTRITO=16/",
         "COD_DISTRITO=16/",
         0
        ],
        [
         "dbfs:/FileStore/shared_uploads/nerea.gomez@bosonit.com/parquet_path/COD_DISTRITO=17/",
         "COD_DISTRITO=17/",
         0
        ],
        [
         "dbfs:/FileStore/shared_uploads/nerea.gomez@bosonit.com/parquet_path/COD_DISTRITO=18/",
         "COD_DISTRITO=18/",
         0
        ],
        [
         "dbfs:/FileStore/shared_uploads/nerea.gomez@bosonit.com/parquet_path/COD_DISTRITO=19/",
         "COD_DISTRITO=19/",
         0
        ],
        [
         "dbfs:/FileStore/shared_uploads/nerea.gomez@bosonit.com/parquet_path/COD_DISTRITO=2/",
         "COD_DISTRITO=2/",
         0
        ],
        [
         "dbfs:/FileStore/shared_uploads/nerea.gomez@bosonit.com/parquet_path/COD_DISTRITO=20/",
         "COD_DISTRITO=20/",
         0
        ],
        [
         "dbfs:/FileStore/shared_uploads/nerea.gomez@bosonit.com/parquet_path/COD_DISTRITO=21/",
         "COD_DISTRITO=21/",
         0
        ],
        [
         "dbfs:/FileStore/shared_uploads/nerea.gomez@bosonit.com/parquet_path/COD_DISTRITO=3/",
         "COD_DISTRITO=3/",
         0
        ],
        [
         "dbfs:/FileStore/shared_uploads/nerea.gomez@bosonit.com/parquet_path/COD_DISTRITO=4/",
         "COD_DISTRITO=4/",
         0
        ],
        [
         "dbfs:/FileStore/shared_uploads/nerea.gomez@bosonit.com/parquet_path/COD_DISTRITO=5/",
         "COD_DISTRITO=5/",
         0
        ],
        [
         "dbfs:/FileStore/shared_uploads/nerea.gomez@bosonit.com/parquet_path/COD_DISTRITO=6/",
         "COD_DISTRITO=6/",
         0
        ],
        [
         "dbfs:/FileStore/shared_uploads/nerea.gomez@bosonit.com/parquet_path/COD_DISTRITO=7/",
         "COD_DISTRITO=7/",
         0
        ],
        [
         "dbfs:/FileStore/shared_uploads/nerea.gomez@bosonit.com/parquet_path/COD_DISTRITO=8/",
         "COD_DISTRITO=8/",
         0
        ],
        [
         "dbfs:/FileStore/shared_uploads/nerea.gomez@bosonit.com/parquet_path/COD_DISTRITO=9/",
         "COD_DISTRITO=9/",
         0
        ],
        [
         "dbfs:/FileStore/shared_uploads/nerea.gomez@bosonit.com/parquet_path/_SUCCESS",
         "_SUCCESS",
         0
        ]
       ],
       "datasetInfos": [],
       "dbfsResultPath": null,
       "isJsonSchema": true,
       "metadata": {},
       "overflow": false,
       "plotOptions": {
        "customPlotOptions": {},
        "displayType": "table",
        "pivotAggregation": null,
        "pivotColumns": null,
        "xColumns": null,
        "yColumns": null
       },
       "removedWidgets": [],
       "schema": [
        {
         "metadata": "{}",
         "name": "path",
         "type": "\"string\""
        },
        {
         "metadata": "{}",
         "name": "name",
         "type": "\"string\""
        },
        {
         "metadata": "{}",
         "name": "size",
         "type": "\"long\""
        }
       ],
       "type": "table"
      }
     },
     "output_type": "display_data"
    }
   ],
   "source": [
    "%fs ls dbfs:/FileStore/shared_uploads/nerea.gomez@bosonit.com/parquet_path"
   ]
  },
  {
   "cell_type": "code",
   "execution_count": 0,
   "metadata": {
    "application/vnd.databricks.v1+cell": {
     "inputWidgets": {},
     "nuid": "92ece326-39aa-4f83-b0da-5650d116e3e8",
     "showTitle": false,
     "title": ""
    }
   },
   "outputs": [
    {
     "data": {
      "text/html": [
       "<style scoped>\n",
       "  .ansiout {\n",
       "    display: block;\n",
       "    unicode-bidi: embed;\n",
       "    white-space: pre-wrap;\n",
       "    word-wrap: break-word;\n",
       "    word-break: break-all;\n",
       "    font-family: \"Source Code Pro\", \"Menlo\", monospace;;\n",
       "    font-size: 13px;\n",
       "    color: #555;\n",
       "    margin-left: 4px;\n",
       "    line-height: 19px;\n",
       "  }\n",
       "</style>\n",
       "<div class=\"ansiout\"></div>"
      ]
     },
     "metadata": {
      "application/vnd.databricks.v1+output": {
       "addedWidgets": {},
       "arguments": {},
       "data": "<div class=\"ansiout\"></div>",
       "datasetInfos": [],
       "metadata": {},
       "removedWidgets": [],
       "type": "html"
      }
     },
     "output_type": "display_data"
    }
   ],
   "source": [
    "#7.1) Por último, prueba a hacer los ejercicios sugeridos en la parte de Hive con el csv \"Datos Padrón\" (incluyendo la importación con Regex) utilizando desde Spark EXCLUSIVAMENTE sentencias spark.sql, es decir, importar los archivos desde local directamente como tablas de Hive y haciendo todas las consultas sobre estas tablas sin transformarlas en ningún momento en DataFrames ni DataSets."
   ]
  },
  {
   "cell_type": "code",
   "execution_count": 0,
   "metadata": {
    "application/vnd.databricks.v1+cell": {
     "inputWidgets": {},
     "nuid": "84c4fd94-0011-4a95-849f-2b9722c36c0d",
     "showTitle": false,
     "title": ""
    }
   },
   "outputs": [
    {
     "data": {
      "text/html": [
       "<style scoped>\n",
       "  .ansiout {\n",
       "    display: block;\n",
       "    unicode-bidi: embed;\n",
       "    white-space: pre-wrap;\n",
       "    word-wrap: break-word;\n",
       "    word-break: break-all;\n",
       "    font-family: \"Source Code Pro\", \"Menlo\", monospace;;\n",
       "    font-size: 13px;\n",
       "    color: #555;\n",
       "    margin-left: 4px;\n",
       "    line-height: 19px;\n",
       "  }\n",
       "</style>\n",
       "<div class=\"ansiout\">Out[16]: DataFrame[]</div>"
      ]
     },
     "metadata": {
      "application/vnd.databricks.v1+output": {
       "addedWidgets": {},
       "arguments": {},
       "data": "<div class=\"ansiout\">Out[16]: DataFrame[]</div>",
       "datasetInfos": [],
       "metadata": {},
       "removedWidgets": [],
       "type": "html"
      }
     },
     "output_type": "display_data"
    }
   ],
   "source": [
    "spark.sql(\"\"\"DROP DATABASE IF EXISTS datos_padron CASCADE; \"\"\")"
   ]
  },
  {
   "cell_type": "code",
   "execution_count": 0,
   "metadata": {
    "application/vnd.databricks.v1+cell": {
     "inputWidgets": {},
     "nuid": "11e72c2d-fcac-4439-99de-ce6532b06875",
     "showTitle": false,
     "title": ""
    }
   },
   "outputs": [
    {
     "data": {
      "text/html": [
       "<style scoped>\n",
       "  .ansiout {\n",
       "    display: block;\n",
       "    unicode-bidi: embed;\n",
       "    white-space: pre-wrap;\n",
       "    word-wrap: break-word;\n",
       "    word-break: break-all;\n",
       "    font-family: \"Source Code Pro\", \"Menlo\", monospace;;\n",
       "    font-size: 13px;\n",
       "    color: #555;\n",
       "    margin-left: 4px;\n",
       "    line-height: 19px;\n",
       "  }\n",
       "</style>\n",
       "<div class=\"ansiout\">Out[17]: DataFrame[]</div>"
      ]
     },
     "metadata": {
      "application/vnd.databricks.v1+output": {
       "addedWidgets": {},
       "arguments": {},
       "data": "<div class=\"ansiout\">Out[17]: DataFrame[]</div>",
       "datasetInfos": [],
       "metadata": {},
       "removedWidgets": [],
       "type": "html"
      }
     },
     "output_type": "display_data"
    }
   ],
   "source": [
    "spark.sql(\"\"\"CREATE DATABASE datos_padron;\"\"\")"
   ]
  },
  {
   "cell_type": "code",
   "execution_count": 0,
   "metadata": {
    "application/vnd.databricks.v1+cell": {
     "inputWidgets": {},
     "nuid": "a504629a-bb39-4631-9c81-5c79eca664fa",
     "showTitle": false,
     "title": ""
    }
   },
   "outputs": [
    {
     "data": {
      "text/html": [
       "<style scoped>\n",
       "  .ansiout {\n",
       "    display: block;\n",
       "    unicode-bidi: embed;\n",
       "    white-space: pre-wrap;\n",
       "    word-wrap: break-word;\n",
       "    word-break: break-all;\n",
       "    font-family: \"Source Code Pro\", \"Menlo\", monospace;;\n",
       "    font-size: 13px;\n",
       "    color: #555;\n",
       "    margin-left: 4px;\n",
       "    line-height: 19px;\n",
       "  }\n",
       "</style>\n",
       "<div class=\"ansiout\">Out[18]: DataFrame[]</div>"
      ]
     },
     "metadata": {
      "application/vnd.databricks.v1+output": {
       "addedWidgets": {},
       "arguments": {},
       "data": "<div class=\"ansiout\">Out[18]: DataFrame[]</div>",
       "datasetInfos": [],
       "metadata": {},
       "removedWidgets": [],
       "type": "html"
      }
     },
     "output_type": "display_data"
    }
   ],
   "source": [
    "spark.sql(\"\"\"use datos_padron\"\"\")"
   ]
  },
  {
   "cell_type": "code",
   "execution_count": 0,
   "metadata": {
    "application/vnd.databricks.v1+cell": {
     "inputWidgets": {},
     "nuid": "df325b73-3635-407c-bd89-f085374b4509",
     "showTitle": false,
     "title": ""
    }
   },
   "outputs": [
    {
     "data": {
      "text/html": [
       "<style scoped>\n",
       "  .ansiout {\n",
       "    display: block;\n",
       "    unicode-bidi: embed;\n",
       "    white-space: pre-wrap;\n",
       "    word-wrap: break-word;\n",
       "    word-break: break-all;\n",
       "    font-family: \"Source Code Pro\", \"Menlo\", monospace;;\n",
       "    font-size: 13px;\n",
       "    color: #555;\n",
       "    margin-left: 4px;\n",
       "    line-height: 19px;\n",
       "  }\n",
       "</style>\n",
       "<div class=\"ansiout\">Out[32]: DataFrame[]</div>"
      ]
     },
     "metadata": {
      "application/vnd.databricks.v1+output": {
       "addedWidgets": {},
       "arguments": {},
       "data": "<div class=\"ansiout\">Out[32]: DataFrame[]</div>",
       "datasetInfos": [],
       "metadata": {},
       "removedWidgets": [],
       "type": "html"
      }
     },
     "output_type": "display_data"
    }
   ],
   "source": [
    "spark.sql(\"\"\"DROP TABLE IF EXISTS padron_txt\"\"\")"
   ]
  },
  {
   "cell_type": "code",
   "execution_count": 0,
   "metadata": {
    "application/vnd.databricks.v1+cell": {
     "inputWidgets": {},
     "nuid": "8c4de2a1-c387-48c4-9233-b0c0de2e8af6",
     "showTitle": false,
     "title": ""
    }
   },
   "outputs": [
    {
     "data": {
      "text/html": [
       "<style scoped>\n",
       "  .ansiout {\n",
       "    display: block;\n",
       "    unicode-bidi: embed;\n",
       "    white-space: pre-wrap;\n",
       "    word-wrap: break-word;\n",
       "    word-break: break-all;\n",
       "    font-family: \"Source Code Pro\", \"Menlo\", monospace;;\n",
       "    font-size: 13px;\n",
       "    color: #555;\n",
       "    margin-left: 4px;\n",
       "    line-height: 19px;\n",
       "  }\n",
       "</style>\n",
       "<div class=\"ansiout\"></div>"
      ]
     },
     "metadata": {
      "application/vnd.databricks.v1+output": {
       "addedWidgets": {},
       "arguments": {},
       "data": "<div class=\"ansiout\"></div>",
       "datasetInfos": [],
       "metadata": {},
       "removedWidgets": [],
       "type": "html"
      }
     },
     "output_type": "display_data"
    }
   ],
   "source": [
    "dataFrame = \"dbfs:/FileStore/shared_uploads/nerea.gomez@bosonit.com/Rango_Edades_Seccion_202106-3.csv\"\n",
    "spark.read.format(\"csv\").option(\"header\",\"true\")\\\n",
    "  .option(\"inferSchema\", \"true\").option(\"sep\", \";\").option(\"emptyValue\", 0).load(dataFrame)\\\n",
    "  .createOrReplaceTempView(\"padron_txt\")"
   ]
  },
  {
   "cell_type": "code",
   "execution_count": 0,
   "metadata": {
    "application/vnd.databricks.v1+cell": {
     "inputWidgets": {},
     "nuid": "327519fa-ed14-4519-ab9a-c5a451f260a4",
     "showTitle": false,
     "title": ""
    }
   },
   "outputs": [
    {
     "data": {
      "text/html": [
       "<style scoped>\n",
       "  .ansiout {\n",
       "    display: block;\n",
       "    unicode-bidi: embed;\n",
       "    white-space: pre-wrap;\n",
       "    word-wrap: break-word;\n",
       "    word-break: break-all;\n",
       "    font-family: \"Source Code Pro\", \"Menlo\", monospace;;\n",
       "    font-size: 13px;\n",
       "    color: #555;\n",
       "    margin-left: 4px;\n",
       "    line-height: 19px;\n",
       "  }\n",
       "</style>\n",
       "<div class=\"ansiout\">+------------+--------------------+---------------+--------------------+----------+----------------+-----------+------------+----------------+----------------+------------------+------------------+\n",
       "COD_DISTRITO|       DESC_DISTRITO|COD_DIST_BARRIO|         DESC_BARRIO|COD_BARRIO|COD_DIST_SECCION|COD_SECCION|COD_EDAD_INT|EspanolesHombres|EspanolesMujeres|ExtranjerosHombres|ExtranjerosMujeres|\n",
       "+------------+--------------------+---------------+--------------------+----------+----------------+-----------+------------+----------------+----------------+------------------+------------------+\n",
       "           1|CENTRO              |            101|PALACIO             |         1|            1006|          6|         100|               0|               1|                 0|                 0|\n",
       "           1|CENTRO              |            101|PALACIO             |         1|            1006|          6|         103|               0|               1|                 0|                 0|\n",
       "           1|CENTRO              |            101|PALACIO             |         1|            1007|          7|           0|               3|               1|                 0|                 0|\n",
       "           1|CENTRO              |            101|PALACIO             |         1|            1007|          7|           1|               1|               1|                 0|                 1|\n",
       "           1|CENTRO              |            101|PALACIO             |         1|            1007|          7|           2|               1|               3|                 0|                 0|\n",
       "           1|CENTRO              |            101|PALACIO             |         1|            1007|          7|           3|               4|               2|                 0|                 0|\n",
       "           1|CENTRO              |            101|PALACIO             |         1|            1007|          7|           4|               1|               1|                 0|                 0|\n",
       "           1|CENTRO              |            101|PALACIO             |         1|            1007|          7|           5|               1|               3|                 0|                 1|\n",
       "           1|CENTRO              |            101|PALACIO             |         1|            1007|          7|           6|               1|               4|                 0|                 0|\n",
       "           1|CENTRO              |            101|PALACIO             |         1|            1007|          7|           7|               3|               2|                 0|                 0|\n",
       "           1|CENTRO              |            101|PALACIO             |         1|            1007|          7|           8|               3|               2|                 0|                 0|\n",
       "           1|CENTRO              |            101|PALACIO             |         1|            1007|          7|           9|               3|               1|                 0|                 0|\n",
       "           1|CENTRO              |            101|PALACIO             |         1|            1007|          7|          10|               2|               3|                 1|                 0|\n",
       "           1|CENTRO              |            101|PALACIO             |         1|            1007|          7|          11|               4|               2|                 0|                 0|\n",
       "           1|CENTRO              |            101|PALACIO             |         1|            1007|          7|          12|               3|               1|                 0|                 0|\n",
       "           1|CENTRO              |            101|PALACIO             |         1|            1007|          7|          13|               1|               3|                 0|                 0|\n",
       "           1|CENTRO              |            101|PALACIO             |         1|            1007|          7|          14|               4|               1|                 0|                 0|\n",
       "           1|CENTRO              |            101|PALACIO             |         1|            1007|          7|          15|               2|               1|                 0|                 0|\n",
       "           1|CENTRO              |            101|PALACIO             |         1|            1007|          7|          16|               0|               2|                 1|                 0|\n",
       "           1|CENTRO              |            101|PALACIO             |         1|            1007|          7|          17|               4|               2|                 0|                 0|\n",
       "+------------+--------------------+---------------+--------------------+----------+----------------+-----------+------------+----------------+----------------+------------------+------------------+\n",
       "only showing top 20 rows\n",
       "\n",
       "</div>"
      ]
     },
     "metadata": {
      "application/vnd.databricks.v1+output": {
       "addedWidgets": {},
       "arguments": {},
       "data": "<div class=\"ansiout\">+------------+--------------------+---------------+--------------------+----------+----------------+-----------+------------+----------------+----------------+------------------+------------------+\n|COD_DISTRITO|       DESC_DISTRITO|COD_DIST_BARRIO|         DESC_BARRIO|COD_BARRIO|COD_DIST_SECCION|COD_SECCION|COD_EDAD_INT|EspanolesHombres|EspanolesMujeres|ExtranjerosHombres|ExtranjerosMujeres|\n+------------+--------------------+---------------+--------------------+----------+----------------+-----------+------------+----------------+----------------+------------------+------------------+\n|           1|CENTRO              |            101|PALACIO             |         1|            1006|          6|         100|               0|               1|                 0|                 0|\n|           1|CENTRO              |            101|PALACIO             |         1|            1006|          6|         103|               0|               1|                 0|                 0|\n|           1|CENTRO              |            101|PALACIO             |         1|            1007|          7|           0|               3|               1|                 0|                 0|\n|           1|CENTRO              |            101|PALACIO             |         1|            1007|          7|           1|               1|               1|                 0|                 1|\n|           1|CENTRO              |            101|PALACIO             |         1|            1007|          7|           2|               1|               3|                 0|                 0|\n|           1|CENTRO              |            101|PALACIO             |         1|            1007|          7|           3|               4|               2|                 0|                 0|\n|           1|CENTRO              |            101|PALACIO             |         1|            1007|          7|           4|               1|               1|                 0|                 0|\n|           1|CENTRO              |            101|PALACIO             |         1|            1007|          7|           5|               1|               3|                 0|                 1|\n|           1|CENTRO              |            101|PALACIO             |         1|            1007|          7|           6|               1|               4|                 0|                 0|\n|           1|CENTRO              |            101|PALACIO             |         1|            1007|          7|           7|               3|               2|                 0|                 0|\n|           1|CENTRO              |            101|PALACIO             |         1|            1007|          7|           8|               3|               2|                 0|                 0|\n|           1|CENTRO              |            101|PALACIO             |         1|            1007|          7|           9|               3|               1|                 0|                 0|\n|           1|CENTRO              |            101|PALACIO             |         1|            1007|          7|          10|               2|               3|                 1|                 0|\n|           1|CENTRO              |            101|PALACIO             |         1|            1007|          7|          11|               4|               2|                 0|                 0|\n|           1|CENTRO              |            101|PALACIO             |         1|            1007|          7|          12|               3|               1|                 0|                 0|\n|           1|CENTRO              |            101|PALACIO             |         1|            1007|          7|          13|               1|               3|                 0|                 0|\n|           1|CENTRO              |            101|PALACIO             |         1|            1007|          7|          14|               4|               1|                 0|                 0|\n|           1|CENTRO              |            101|PALACIO             |         1|            1007|          7|          15|               2|               1|                 0|                 0|\n|           1|CENTRO              |            101|PALACIO             |         1|            1007|          7|          16|               0|               2|                 1|                 0|\n|           1|CENTRO              |            101|PALACIO             |         1|            1007|          7|          17|               4|               2|                 0|                 0|\n+------------+--------------------+---------------+--------------------+----------+----------------+-----------+------------+----------------+----------------+------------------+------------------+\nonly showing top 20 rows\n\n</div>",
       "datasetInfos": [],
       "metadata": {},
       "removedWidgets": [],
       "type": "html"
      }
     },
     "output_type": "display_data"
    }
   ],
   "source": [
    "spark.sql(\"\"\"SELECT * FROM padron_txt\"\"\").show()"
   ]
  },
  {
   "cell_type": "code",
   "execution_count": 0,
   "metadata": {
    "application/vnd.databricks.v1+cell": {
     "inputWidgets": {},
     "nuid": "f60069c0-d011-4335-ab0c-cb88c16be9f7",
     "showTitle": false,
     "title": ""
    }
   },
   "outputs": [
    {
     "data": {
      "text/html": [
       "<style scoped>\n",
       "  .ansiout {\n",
       "    display: block;\n",
       "    unicode-bidi: embed;\n",
       "    white-space: pre-wrap;\n",
       "    word-wrap: break-word;\n",
       "    word-break: break-all;\n",
       "    font-family: \"Source Code Pro\", \"Menlo\", monospace;;\n",
       "    font-size: 13px;\n",
       "    color: #555;\n",
       "    margin-left: 4px;\n",
       "    line-height: 19px;\n",
       "  }\n",
       "</style>\n",
       "<div class=\"ansiout\">Out[42]: DataFrame[num_affected_rows: bigint, num_inserted_rows: bigint]</div>"
      ]
     },
     "metadata": {
      "application/vnd.databricks.v1+output": {
       "addedWidgets": {},
       "arguments": {},
       "data": "<div class=\"ansiout\">Out[42]: DataFrame[num_affected_rows: bigint, num_inserted_rows: bigint]</div>",
       "datasetInfos": [],
       "metadata": {},
       "removedWidgets": [],
       "type": "html"
      }
     },
     "output_type": "display_data"
    }
   ],
   "source": [
    "spark.sql(\"\"\"CREATE TABLE IF NOT EXISTS padron_txt2 AS \n",
    "SELECT COD_DISTRITO,\n",
    "TRIM(DESC_DISTRITO) as DESC_DISTRITO,\n",
    "COD_DIST_BARRIO,\n",
    "TRIM(DESC_BARRIO) as DESC_BARRIO,\n",
    "COD_BARRIO,\n",
    "COD_DIST_SECCION,\n",
    "COD_SECCION,\n",
    "COD_EDAD_INT,\n",
    "EspanolesHombres,\n",
    "EspanolesMujeres,\n",
    "ExtranjerosHombres,\n",
    "ExtranjerosMujeres\n",
    "FROM padron_txt;\"\"\")"
   ]
  },
  {
   "cell_type": "code",
   "execution_count": 0,
   "metadata": {
    "application/vnd.databricks.v1+cell": {
     "inputWidgets": {},
     "nuid": "976b1a4e-a053-40d1-b71a-a4354ba00777",
     "showTitle": false,
     "title": ""
    }
   },
   "outputs": [
    {
     "data": {
      "text/html": [
       "<style scoped>\n",
       "  .ansiout {\n",
       "    display: block;\n",
       "    unicode-bidi: embed;\n",
       "    white-space: pre-wrap;\n",
       "    word-wrap: break-word;\n",
       "    word-break: break-all;\n",
       "    font-family: \"Source Code Pro\", \"Menlo\", monospace;;\n",
       "    font-size: 13px;\n",
       "    color: #555;\n",
       "    margin-left: 4px;\n",
       "    line-height: 19px;\n",
       "  }\n",
       "</style>\n",
       "<div class=\"ansiout\">+------------+-------------+---------------+-----------+----------+----------------+-----------+------------+----------------+----------------+------------------+------------------+\n",
       "COD_DISTRITO|DESC_DISTRITO|COD_DIST_BARRIO|DESC_BARRIO|COD_BARRIO|COD_DIST_SECCION|COD_SECCION|COD_EDAD_INT|EspanolesHombres|EspanolesMujeres|ExtranjerosHombres|ExtranjerosMujeres|\n",
       "+------------+-------------+---------------+-----------+----------+----------------+-----------+------------+----------------+----------------+------------------+------------------+\n",
       "           1|       CENTRO|            101|    PALACIO|         1|            1006|          6|         100|               0|               1|                 0|                 0|\n",
       "           1|       CENTRO|            101|    PALACIO|         1|            1006|          6|         103|               0|               1|                 0|                 0|\n",
       "           1|       CENTRO|            101|    PALACIO|         1|            1007|          7|           0|               3|               1|                 0|                 0|\n",
       "           1|       CENTRO|            101|    PALACIO|         1|            1007|          7|           1|               1|               1|                 0|                 1|\n",
       "           1|       CENTRO|            101|    PALACIO|         1|            1007|          7|           2|               1|               3|                 0|                 0|\n",
       "           1|       CENTRO|            101|    PALACIO|         1|            1007|          7|           3|               4|               2|                 0|                 0|\n",
       "           1|       CENTRO|            101|    PALACIO|         1|            1007|          7|           4|               1|               1|                 0|                 0|\n",
       "           1|       CENTRO|            101|    PALACIO|         1|            1007|          7|           5|               1|               3|                 0|                 1|\n",
       "           1|       CENTRO|            101|    PALACIO|         1|            1007|          7|           6|               1|               4|                 0|                 0|\n",
       "           1|       CENTRO|            101|    PALACIO|         1|            1007|          7|           7|               3|               2|                 0|                 0|\n",
       "+------------+-------------+---------------+-----------+----------+----------------+-----------+------------+----------------+----------------+------------------+------------------+\n",
       "\n",
       "</div>"
      ]
     },
     "metadata": {
      "application/vnd.databricks.v1+output": {
       "addedWidgets": {},
       "arguments": {},
       "data": "<div class=\"ansiout\">+------------+-------------+---------------+-----------+----------+----------------+-----------+------------+----------------+----------------+------------------+------------------+\n|COD_DISTRITO|DESC_DISTRITO|COD_DIST_BARRIO|DESC_BARRIO|COD_BARRIO|COD_DIST_SECCION|COD_SECCION|COD_EDAD_INT|EspanolesHombres|EspanolesMujeres|ExtranjerosHombres|ExtranjerosMujeres|\n+------------+-------------+---------------+-----------+----------+----------------+-----------+------------+----------------+----------------+------------------+------------------+\n|           1|       CENTRO|            101|    PALACIO|         1|            1006|          6|         100|               0|               1|                 0|                 0|\n|           1|       CENTRO|            101|    PALACIO|         1|            1006|          6|         103|               0|               1|                 0|                 0|\n|           1|       CENTRO|            101|    PALACIO|         1|            1007|          7|           0|               3|               1|                 0|                 0|\n|           1|       CENTRO|            101|    PALACIO|         1|            1007|          7|           1|               1|               1|                 0|                 1|\n|           1|       CENTRO|            101|    PALACIO|         1|            1007|          7|           2|               1|               3|                 0|                 0|\n|           1|       CENTRO|            101|    PALACIO|         1|            1007|          7|           3|               4|               2|                 0|                 0|\n|           1|       CENTRO|            101|    PALACIO|         1|            1007|          7|           4|               1|               1|                 0|                 0|\n|           1|       CENTRO|            101|    PALACIO|         1|            1007|          7|           5|               1|               3|                 0|                 1|\n|           1|       CENTRO|            101|    PALACIO|         1|            1007|          7|           6|               1|               4|                 0|                 0|\n|           1|       CENTRO|            101|    PALACIO|         1|            1007|          7|           7|               3|               2|                 0|                 0|\n+------------+-------------+---------------+-----------+----------+----------------+-----------+------------+----------------+----------------+------------------+------------------+\n\n</div>",
       "datasetInfos": [],
       "metadata": {},
       "removedWidgets": [],
       "type": "html"
      }
     },
     "output_type": "display_data"
    }
   ],
   "source": [
    "spark.sql(\"\"\"SELECT * FROM padron_txt2 limit 10;\"\"\").show()"
   ]
  },
  {
   "cell_type": "code",
   "execution_count": 0,
   "metadata": {
    "application/vnd.databricks.v1+cell": {
     "inputWidgets": {},
     "nuid": "988ba3e3-1808-4f0a-9d56-5186b1ee4f3c",
     "showTitle": false,
     "title": ""
    }
   },
   "outputs": [
    {
     "data": {
      "text/html": [
       "<style scoped>\n",
       "  .ansiout {\n",
       "    display: block;\n",
       "    unicode-bidi: embed;\n",
       "    white-space: pre-wrap;\n",
       "    word-wrap: break-word;\n",
       "    word-break: break-all;\n",
       "    font-family: \"Source Code Pro\", \"Menlo\", monospace;;\n",
       "    font-size: 13px;\n",
       "    color: #555;\n",
       "    margin-left: 4px;\n",
       "    line-height: 19px;\n",
       "  }\n",
       "</style>\n",
       "<div class=\"ansiout\">+------------+----------+------+------+-----+-----+\n",
       "COD_DISTRITO|COD_BARRIO|N_EspH|N_EspM|N_ExH|N_ExM|\n",
       "+------------+----------+------+------+-----+-----+\n",
       "          19|         1| 13391| 14509| 3687| 3749|\n",
       "          10|         2| 15169| 17728| 4097| 4653|\n",
       "          10|         5|  7121|  8141| 1841| 2302|\n",
       "          10|         6|  2690|  2704|  263|  249|\n",
       "          10|         4| 25000| 29776| 5372| 6257|\n",
       "          10|         1|  6849|  7727| 1421| 1543|\n",
       "          10|         3| 13897| 15853| 3165| 3577|\n",
       "          10|         7| 20797| 24066| 2940| 3472|\n",
       "          10|         0|     0|     1|    0|    0|\n",
       "           6|         1| 10202| 11954| 3118| 3776|\n",
       "           1|         2| 16693| 16666| 8019| 5718|\n",
       "           1|         1|  9323|  9623| 2376| 2320|\n",
       "           6|         5|  9557| 10646| 2792| 3425|\n",
       "           1|         3|  4014|  3966| 1387| 1475|\n",
       "           1|         4|  7097|  6763| 2218| 2096|\n",
       "           1|         5| 12542| 12631| 4017| 4040|\n",
       "           5|         2| 14485| 17795| 1671| 2174|\n",
       "           5|         3|  7255|  8965|  986| 1308|\n",
       "           1|         6|  2865|  2611| 1294| 1247|\n",
       "           5|         6|  7187|  8201|  712|  981|\n",
       "+------------+----------+------+------+-----+-----+\n",
       "only showing top 20 rows\n",
       "\n",
       "</div>"
      ]
     },
     "metadata": {
      "application/vnd.databricks.v1+output": {
       "addedWidgets": {},
       "arguments": {},
       "data": "<div class=\"ansiout\">+------------+----------+------+------+-----+-----+\n|COD_DISTRITO|COD_BARRIO|N_EspH|N_EspM|N_ExH|N_ExM|\n+------------+----------+------+------+-----+-----+\n|          19|         1| 13391| 14509| 3687| 3749|\n|          10|         2| 15169| 17728| 4097| 4653|\n|          10|         5|  7121|  8141| 1841| 2302|\n|          10|         6|  2690|  2704|  263|  249|\n|          10|         4| 25000| 29776| 5372| 6257|\n|          10|         1|  6849|  7727| 1421| 1543|\n|          10|         3| 13897| 15853| 3165| 3577|\n|          10|         7| 20797| 24066| 2940| 3472|\n|          10|         0|     0|     1|    0|    0|\n|           6|         1| 10202| 11954| 3118| 3776|\n|           1|         2| 16693| 16666| 8019| 5718|\n|           1|         1|  9323|  9623| 2376| 2320|\n|           6|         5|  9557| 10646| 2792| 3425|\n|           1|         3|  4014|  3966| 1387| 1475|\n|           1|         4|  7097|  6763| 2218| 2096|\n|           1|         5| 12542| 12631| 4017| 4040|\n|           5|         2| 14485| 17795| 1671| 2174|\n|           5|         3|  7255|  8965|  986| 1308|\n|           1|         6|  2865|  2611| 1294| 1247|\n|           5|         6|  7187|  8201|  712|  981|\n+------------+----------+------+------+-----+-----+\nonly showing top 20 rows\n\n</div>",
       "datasetInfos": [],
       "metadata": {},
       "removedWidgets": [],
       "type": "html"
      }
     },
     "output_type": "display_data"
    }
   ],
   "source": [
    "spark.sql(\"\"\"SELECT COD_DISTRITO, COD_BARRIO, sum(EspanolesHombres) as N_EspH, sum(EspanolesMujeres) as N_EspM, sum(ExtranjerosHombres) as N_ExH, sum(ExtranjerosMujeres) as N_ExM\n",
    "FROM padron_txt2\n",
    "WHERE COD_DISTRITO IN (1, 5, 10, 19, 6, 21)\n",
    "GROUP BY COD_DISTRITO, COD_BARRIO; \"\"\").show()"
   ]
  },
  {
   "cell_type": "code",
   "execution_count": 0,
   "metadata": {
    "application/vnd.databricks.v1+cell": {
     "inputWidgets": {},
     "nuid": "e10090ac-96da-4e60-9c2f-42d5c6778af8",
     "showTitle": false,
     "title": ""
    }
   },
   "outputs": [
    {
     "data": {
      "text/html": [
       "<style scoped>\n",
       "  .ansiout {\n",
       "    display: block;\n",
       "    unicode-bidi: embed;\n",
       "    white-space: pre-wrap;\n",
       "    word-wrap: break-word;\n",
       "    word-break: break-all;\n",
       "    font-family: \"Source Code Pro\", \"Menlo\", monospace;;\n",
       "    font-size: 13px;\n",
       "    color: #555;\n",
       "    margin-left: 4px;\n",
       "    line-height: 19px;\n",
       "  }\n",
       "</style>\n",
       "<div class=\"ansiout\">Out[50]: DataFrame[]</div>"
      ]
     },
     "metadata": {
      "application/vnd.databricks.v1+output": {
       "addedWidgets": {},
       "arguments": {},
       "data": "<div class=\"ansiout\">Out[50]: DataFrame[]</div>",
       "datasetInfos": [],
       "metadata": {},
       "removedWidgets": [],
       "type": "html"
      }
     },
     "output_type": "display_data"
    }
   ],
   "source": [
    "spark.sql(\"\"\"CREATE TABLE padron_particionado\n",
    "(DESC_DISTRITO String,\n",
    "COD_DIST_BARRIO Int,\n",
    "DESC_BARRIO String,\n",
    "COD_DIST_SECCION Int,\n",
    "COD_SECCION Int,\n",
    "COD_EDAD_INT Int,\n",
    "EspanolesHombres Int,\n",
    "EspanolesMujeres Int,\n",
    "ExtranjerosHombres Int,\n",
    "ExtranjerosMujeres Int)\n",
    "PARTITIONED BY(COD_DISTRITO INT , COD_BARRIO INT)\n",
    "stored as parquet; \"\"\")"
   ]
  },
  {
   "cell_type": "code",
   "execution_count": 0,
   "metadata": {
    "application/vnd.databricks.v1+cell": {
     "inputWidgets": {},
     "nuid": "a0dd0329-51b0-4ce9-ad40-ed3dd7337d76",
     "showTitle": false,
     "title": ""
    }
   },
   "outputs": [
    {
     "data": {
      "text/html": [
       "<style scoped>\n",
       "  .ansiout {\n",
       "    display: block;\n",
       "    unicode-bidi: embed;\n",
       "    white-space: pre-wrap;\n",
       "    word-wrap: break-word;\n",
       "    word-break: break-all;\n",
       "    font-family: \"Source Code Pro\", \"Menlo\", monospace;;\n",
       "    font-size: 13px;\n",
       "    color: #555;\n",
       "    margin-left: 4px;\n",
       "    line-height: 19px;\n",
       "  }\n",
       "</style>\n",
       "<div class=\"ansiout\">Out[53]: DataFrame[key: string, value: string]</div>"
      ]
     },
     "metadata": {
      "application/vnd.databricks.v1+output": {
       "addedWidgets": {},
       "arguments": {},
       "data": "<div class=\"ansiout\">Out[53]: DataFrame[key: string, value: string]</div>",
       "datasetInfos": [],
       "metadata": {},
       "removedWidgets": [],
       "type": "html"
      }
     },
     "output_type": "display_data"
    }
   ],
   "source": [
    "spark.sql(\"\"\"set hive.exec.dynamic.partition.mode=nonstrict \"\"\")"
   ]
  },
  {
   "cell_type": "code",
   "execution_count": 0,
   "metadata": {
    "application/vnd.databricks.v1+cell": {
     "inputWidgets": {},
     "nuid": "5e833cb9-b4d4-4797-97c0-ea6e693fc11e",
     "showTitle": false,
     "title": ""
    }
   },
   "outputs": [
    {
     "data": {
      "text/html": [
       "<style scoped>\n",
       "  .ansiout {\n",
       "    display: block;\n",
       "    unicode-bidi: embed;\n",
       "    white-space: pre-wrap;\n",
       "    word-wrap: break-word;\n",
       "    word-break: break-all;\n",
       "    font-family: \"Source Code Pro\", \"Menlo\", monospace;;\n",
       "    font-size: 13px;\n",
       "    color: #555;\n",
       "    margin-left: 4px;\n",
       "    line-height: 19px;\n",
       "  }\n",
       "</style>\n",
       "<div class=\"ansiout\">Out[54]: DataFrame[]</div>"
      ]
     },
     "metadata": {
      "application/vnd.databricks.v1+output": {
       "addedWidgets": {},
       "arguments": {},
       "data": "<div class=\"ansiout\">Out[54]: DataFrame[]</div>",
       "datasetInfos": [],
       "metadata": {},
       "removedWidgets": [],
       "type": "html"
      }
     },
     "output_type": "display_data"
    }
   ],
   "source": [
    "spark.sql(\"\"\"INSERT OVERWRITE TABLE padron_particionado PARTITION(COD_DISTRITO, COD_BARRIO)\n",
    "SELECT DESC_DISTRITO,\n",
    "COD_DIST_BARRIO,\n",
    "DESC_BARRIO,\n",
    "COD_DIST_SECCION,\n",
    "COD_SECCION,\n",
    "COD_EDAD_INT,\n",
    "EspanolesHombres,\n",
    "EspanolesMujeres,\n",
    "ExtranjerosHombres,\n",
    "ExtranjerosMujeres,\n",
    "COD_DISTRITO,\n",
    "COD_BARRIO\n",
    "FROM padron_txt2; \"\"\")"
   ]
  },
  {
   "cell_type": "code",
   "execution_count": 0,
   "metadata": {
    "application/vnd.databricks.v1+cell": {
     "inputWidgets": {},
     "nuid": "cfda9253-d24e-4a5c-ba4f-af96efc79454",
     "showTitle": false,
     "title": ""
    }
   },
   "outputs": [
    {
     "data": {
      "text/html": [
       "<style scoped>\n",
       "  .ansiout {\n",
       "    display: block;\n",
       "    unicode-bidi: embed;\n",
       "    white-space: pre-wrap;\n",
       "    word-wrap: break-word;\n",
       "    word-break: break-all;\n",
       "    font-family: \"Source Code Pro\", \"Menlo\", monospace;;\n",
       "    font-size: 13px;\n",
       "    color: #555;\n",
       "    margin-left: 4px;\n",
       "    line-height: 19px;\n",
       "  }\n",
       "</style>\n",
       "<div class=\"ansiout\">+------------+----------+------+------+-----+-----+\n",
       "COD_DISTRITO|COD_BARRIO|N_EspH|N_EspM|N_ExH|N_ExM|\n",
       "+------------+----------+------+------+-----+-----+\n",
       "          10|         2| 15169| 17728| 4097| 4653|\n",
       "           1|         2| 16693| 16666| 8019| 5718|\n",
       "          10|         4| 25000| 29776| 5372| 6257|\n",
       "           6|         2| 13200| 15978| 2339| 3041|\n",
       "           1|         5| 12542| 12631| 4017| 4040|\n",
       "          10|         7| 20797| 24066| 2940| 3472|\n",
       "           1|         1|  9323|  9623| 2376| 2320|\n",
       "          19|         1| 13391| 14509| 3687| 3749|\n",
       "           5|         4| 13254| 15943| 1009| 1491|\n",
       "          10|         3| 13897| 15853| 3165| 3577|\n",
       "           5|         2| 14485| 17795| 1671| 2174|\n",
       "           6|         6|  8677| 10450| 2647| 3523|\n",
       "           6|         1| 10202| 11954| 3118| 3776|\n",
       "          10|         1|  6849|  7727| 1421| 1543|\n",
       "           6|         3|  7808|  9370| 1338| 1879|\n",
       "          21|         1|  8896|  9554|  526|  702|\n",
       "           5|         5| 10242| 11924|  821| 1482|\n",
       "           6|         4|  8800| 10154| 1618| 2039|\n",
       "          19|         2|  7680|  8459|  638|  675|\n",
       "           5|         6|  7187|  8201|  712|  981|\n",
       "+------------+----------+------+------+-----+-----+\n",
       "only showing top 20 rows\n",
       "\n",
       "</div>"
      ]
     },
     "metadata": {
      "application/vnd.databricks.v1+output": {
       "addedWidgets": {},
       "arguments": {},
       "data": "<div class=\"ansiout\">+------------+----------+------+------+-----+-----+\n|COD_DISTRITO|COD_BARRIO|N_EspH|N_EspM|N_ExH|N_ExM|\n+------------+----------+------+------+-----+-----+\n|          10|         2| 15169| 17728| 4097| 4653|\n|           1|         2| 16693| 16666| 8019| 5718|\n|          10|         4| 25000| 29776| 5372| 6257|\n|           6|         2| 13200| 15978| 2339| 3041|\n|           1|         5| 12542| 12631| 4017| 4040|\n|          10|         7| 20797| 24066| 2940| 3472|\n|           1|         1|  9323|  9623| 2376| 2320|\n|          19|         1| 13391| 14509| 3687| 3749|\n|           5|         4| 13254| 15943| 1009| 1491|\n|          10|         3| 13897| 15853| 3165| 3577|\n|           5|         2| 14485| 17795| 1671| 2174|\n|           6|         6|  8677| 10450| 2647| 3523|\n|           6|         1| 10202| 11954| 3118| 3776|\n|          10|         1|  6849|  7727| 1421| 1543|\n|           6|         3|  7808|  9370| 1338| 1879|\n|          21|         1|  8896|  9554|  526|  702|\n|           5|         5| 10242| 11924|  821| 1482|\n|           6|         4|  8800| 10154| 1618| 2039|\n|          19|         2|  7680|  8459|  638|  675|\n|           5|         6|  7187|  8201|  712|  981|\n+------------+----------+------+------+-----+-----+\nonly showing top 20 rows\n\n</div>",
       "datasetInfos": [],
       "metadata": {},
       "removedWidgets": [],
       "type": "html"
      }
     },
     "output_type": "display_data"
    }
   ],
   "source": [
    "spark.sql(\"\"\"SELECT COD_DISTRITO, COD_BARRIO, sum(EspanolesHombres) as N_EspH, sum(EspanolesMujeres) as N_EspM, sum(ExtranjerosHombres) as N_ExH, sum(ExtranjerosMujeres) as N_ExM\n",
    "FROM padron_particionado\n",
    "WHERE COD_DISTRITO IN (1, 5, 10, 19, 6, 21)\n",
    "GROUP BY COD_DISTRITO, COD_BARRIO; \"\"\").show()"
   ]
  },
  {
   "cell_type": "code",
   "execution_count": 0,
   "metadata": {
    "application/vnd.databricks.v1+cell": {
     "inputWidgets": {},
     "nuid": "142aff30-4482-453c-ba9f-2fa23c42d159",
     "showTitle": false,
     "title": ""
    }
   },
   "outputs": [
    {
     "data": {
      "text/html": [
       "<style scoped>\n",
       "  .ansiout {\n",
       "    display: block;\n",
       "    unicode-bidi: embed;\n",
       "    white-space: pre-wrap;\n",
       "    word-wrap: break-word;\n",
       "    word-break: break-all;\n",
       "    font-family: \"Source Code Pro\", \"Menlo\", monospace;;\n",
       "    font-size: 13px;\n",
       "    color: #555;\n",
       "    margin-left: 4px;\n",
       "    line-height: 19px;\n",
       "  }\n",
       "</style>\n",
       "<div class=\"ansiout\">+------------+----------+------+------+-----+-----+------+------+-----+-----+------------------+------------------+------------------+------------------+------+------+-----+-----+\n",
       "COD_DISTRITO|COD_BARRIO|N_EspH|N_EspM|N_ExH|N_ExM|N_EspH|N_EspM|N_ExH|N_ExM|            N_EspH|            N_EspM|             N_ExH|             N_ExM|N_EspH|N_EspM|N_ExH|N_ExM|\n",
       "+------------+----------+------+------+-----+-----+------+------+-----+-----+------------------+------------------+------------------+------------------+------+------+-----+-----+\n",
       "          19|         1|    43|    44|   16|   17|     0|     0|    0|    0|5.1365554276946686| 5.565400843881856|1.4142692750287686|1.4380514000767166|  2607|  2607| 2607| 2607|\n",
       "          10|         2|    17|    20|   12|   12|     0|     0|    0|    0|4.1903314917127075| 4.897237569060773| 1.131767955801105|1.2853591160220994|  3620|  3620| 3620| 3620|\n",
       "          10|         5|    39|    37|   12|   16|     0|     0|    0|    0| 4.877397260273972| 5.576027397260274| 1.260958904109589|1.5767123287671232|  1460|  1460| 1460| 1460|\n",
       "          10|         6|    42|    51|    7|    9|     0|     0|    0|    0| 9.853479853479854| 9.904761904761905|0.9633699633699634|0.9120879120879121|   273|   273|  273|  273|\n",
       "          10|         4|    20|    33|   19|   21|     0|     0|    0|    0| 4.359958144401814| 5.192884548308336|0.9368678060690617| 1.091210324380886|  5734|  5734| 5734| 5734|\n",
       "          10|         1|    33|    34|   12|   11|     0|     0|    0|    0| 4.707216494845361| 5.310652920962199|0.9766323024054983|1.0604810996563574|  1455|  1455| 1455| 1455|\n",
       "          10|         3|    36|    40|   11|   11|     0|     0|    0|    0|4.8898662913441235| 5.578114004222378|1.1136523574947221|1.2586206896551724|  2842|  2842| 2842| 2842|\n",
       "          10|         7|    38|    38|    9|   10|     0|     0|    0|    0| 5.093558657849621| 5.894195444526083|0.7200587803085966|0.8503551310311046|  4083|  4083| 4083| 4083|\n",
       "          10|         0|     0|     1|    0|    0|     0|     1|    0|    0|               0.0|               1.0|               0.0|               0.0|     1|     1|    1|    1|\n",
       "           6|         1|    25|    22|   14|   18|     0|     0|    0|    0| 4.738504412447747| 5.552252670692058|1.4482117974918718|1.7538318625174176|  2153|  2153| 2153| 2153|\n",
       "           1|         2|    26|    28|   32|   18|     0|     0|    0|    0|4.7885829030407345| 4.780837636259323|2.3003442340791738| 1.640275387263339|  3486|  3486| 3486| 3486|\n",
       "           1|         1|    24|    19|   16|   16|     0|     0|    0|    0| 5.303185437997724| 5.473833902161547|1.3515358361774743|1.3196814562002275|  1758|  1758| 1758| 1758|\n",
       "           6|         5|    22|    23|   13|   15|     0|     0|    0|    0|  5.50835734870317| 6.136023054755043| 1.609221902017291|1.9740634005763689|  1735|  1735| 1735| 1735|\n",
       "           1|         3|    20|    16|   11|   16|     0|     0|    0|    0|3.7939508506616257|3.7485822306238186|1.3109640831758034|  1.39413988657845|  1058|  1058| 1058| 1058|\n",
       "           1|         4|    22|    21|   15|   17|     0|     0|    0|    0|  6.06063193851409| 5.775405636208369|1.8941076003415884|1.7899231426131512|  1171|  1171| 1171| 1171|\n",
       "           1|         5|    23|    20|   18|   17|     0|     0|    0|    0| 4.796175908221797| 4.830210325047801|1.5361376673040152|1.5449330783938815|  2615|  2615| 2615| 2615|\n",
       "           5|         2|    23|    26|   12|   11|     0|     0|    0|    0| 5.453689759036145| 6.699924698795181|0.6291415662650602|0.8185240963855421|  2656|  2656| 2656| 2656|\n",
       "           5|         3|    22|    24|    7|   10|     0|     0|    0|    0| 5.654715510522213| 6.987529228371005|0.7685113016367888| 1.019485580670304|  1283|  1283| 1283| 1283|\n",
       "           1|         6|    20|    17|   15|   18|     0|     0|    0|    0|4.2825112107623315|3.9028400597907322|1.9342301943198805|1.8639760837070254|   669|   669|  669|  669|\n",
       "           5|         6|    23|    25|   10|   14|     0|     0|    0|    0| 5.610460577673693| 6.402029664324746| 0.555815768930523| 0.765807962529274|  1281|  1281| 1281| 1281|\n",
       "+------------+----------+------+------+-----+-----+------+------+-----+-----+------------------+------------------+------------------+------------------+------+------+-----+-----+\n",
       "only showing top 20 rows\n",
       "\n",
       "</div>"
      ]
     },
     "metadata": {
      "application/vnd.databricks.v1+output": {
       "addedWidgets": {},
       "arguments": {},
       "data": "<div class=\"ansiout\">+------------+----------+------+------+-----+-----+------+------+-----+-----+------------------+------------------+------------------+------------------+------+------+-----+-----+\n|COD_DISTRITO|COD_BARRIO|N_EspH|N_EspM|N_ExH|N_ExM|N_EspH|N_EspM|N_ExH|N_ExM|            N_EspH|            N_EspM|             N_ExH|             N_ExM|N_EspH|N_EspM|N_ExH|N_ExM|\n+------------+----------+------+------+-----+-----+------+------+-----+-----+------------------+------------------+------------------+------------------+------+------+-----+-----+\n|          19|         1|    43|    44|   16|   17|     0|     0|    0|    0|5.1365554276946686| 5.565400843881856|1.4142692750287686|1.4380514000767166|  2607|  2607| 2607| 2607|\n|          10|         2|    17|    20|   12|   12|     0|     0|    0|    0|4.1903314917127075| 4.897237569060773| 1.131767955801105|1.2853591160220994|  3620|  3620| 3620| 3620|\n|          10|         5|    39|    37|   12|   16|     0|     0|    0|    0| 4.877397260273972| 5.576027397260274| 1.260958904109589|1.5767123287671232|  1460|  1460| 1460| 1460|\n|          10|         6|    42|    51|    7|    9|     0|     0|    0|    0| 9.853479853479854| 9.904761904761905|0.9633699633699634|0.9120879120879121|   273|   273|  273|  273|\n|          10|         4|    20|    33|   19|   21|     0|     0|    0|    0| 4.359958144401814| 5.192884548308336|0.9368678060690617| 1.091210324380886|  5734|  5734| 5734| 5734|\n|          10|         1|    33|    34|   12|   11|     0|     0|    0|    0| 4.707216494845361| 5.310652920962199|0.9766323024054983|1.0604810996563574|  1455|  1455| 1455| 1455|\n|          10|         3|    36|    40|   11|   11|     0|     0|    0|    0|4.8898662913441235| 5.578114004222378|1.1136523574947221|1.2586206896551724|  2842|  2842| 2842| 2842|\n|          10|         7|    38|    38|    9|   10|     0|     0|    0|    0| 5.093558657849621| 5.894195444526083|0.7200587803085966|0.8503551310311046|  4083|  4083| 4083| 4083|\n|          10|         0|     0|     1|    0|    0|     0|     1|    0|    0|               0.0|               1.0|               0.0|               0.0|     1|     1|    1|    1|\n|           6|         1|    25|    22|   14|   18|     0|     0|    0|    0| 4.738504412447747| 5.552252670692058|1.4482117974918718|1.7538318625174176|  2153|  2153| 2153| 2153|\n|           1|         2|    26|    28|   32|   18|     0|     0|    0|    0|4.7885829030407345| 4.780837636259323|2.3003442340791738| 1.640275387263339|  3486|  3486| 3486| 3486|\n|           1|         1|    24|    19|   16|   16|     0|     0|    0|    0| 5.303185437997724| 5.473833902161547|1.3515358361774743|1.3196814562002275|  1758|  1758| 1758| 1758|\n|           6|         5|    22|    23|   13|   15|     0|     0|    0|    0|  5.50835734870317| 6.136023054755043| 1.609221902017291|1.9740634005763689|  1735|  1735| 1735| 1735|\n|           1|         3|    20|    16|   11|   16|     0|     0|    0|    0|3.7939508506616257|3.7485822306238186|1.3109640831758034|  1.39413988657845|  1058|  1058| 1058| 1058|\n|           1|         4|    22|    21|   15|   17|     0|     0|    0|    0|  6.06063193851409| 5.775405636208369|1.8941076003415884|1.7899231426131512|  1171|  1171| 1171| 1171|\n|           1|         5|    23|    20|   18|   17|     0|     0|    0|    0| 4.796175908221797| 4.830210325047801|1.5361376673040152|1.5449330783938815|  2615|  2615| 2615| 2615|\n|           5|         2|    23|    26|   12|   11|     0|     0|    0|    0| 5.453689759036145| 6.699924698795181|0.6291415662650602|0.8185240963855421|  2656|  2656| 2656| 2656|\n|           5|         3|    22|    24|    7|   10|     0|     0|    0|    0| 5.654715510522213| 6.987529228371005|0.7685113016367888| 1.019485580670304|  1283|  1283| 1283| 1283|\n|           1|         6|    20|    17|   15|   18|     0|     0|    0|    0|4.2825112107623315|3.9028400597907322|1.9342301943198805|1.8639760837070254|   669|   669|  669|  669|\n|           5|         6|    23|    25|   10|   14|     0|     0|    0|    0| 5.610460577673693| 6.402029664324746| 0.555815768930523| 0.765807962529274|  1281|  1281| 1281| 1281|\n+------------+----------+------+------+-----+-----+------+------+-----+-----+------------------+------------------+------------------+------------------+------+------+-----+-----+\nonly showing top 20 rows\n\n</div>",
       "datasetInfos": [],
       "metadata": {},
       "removedWidgets": [],
       "type": "html"
      }
     },
     "output_type": "display_data"
    }
   ],
   "source": [
    "spark.sql(\"\"\"SELECT COD_DISTRITO, COD_BARRIO, \n",
    "max(EspanolesHombres) as N_EspH, max(EspanolesMujeres) as N_EspM, max(ExtranjerosHombres) as N_ExH, max(ExtranjerosMujeres) as N_ExM,\n",
    "min(EspanolesHombres) as N_EspH, min(EspanolesMujeres) as N_EspM, min(ExtranjerosHombres) as N_ExH, min(ExtranjerosMujeres) as N_ExM,\n",
    "avg(EspanolesHombres) as N_EspH, avg(EspanolesMujeres) as N_EspM, avg(ExtranjerosHombres) as N_ExH, avg(ExtranjerosMujeres) as N_ExM,\n",
    "count(EspanolesHombres) as N_EspH, count(EspanolesMujeres) as N_EspM, count(ExtranjerosHombres) as N_ExH, count(ExtranjerosMujeres) as N_ExM\n",
    "FROM padron_txt2\n",
    "WHERE COD_DISTRITO IN (1, 5, 10, 19, 6, 21)\n",
    "GROUP BY COD_DISTRITO, COD_BARRIO; \"\"\").show()"
   ]
  },
  {
   "cell_type": "code",
   "execution_count": 0,
   "metadata": {
    "application/vnd.databricks.v1+cell": {
     "inputWidgets": {},
     "nuid": "b64d7119-106f-4878-8dd4-f79696702dd2",
     "showTitle": false,
     "title": ""
    }
   },
   "outputs": [
    {
     "data": {
      "text/html": [
       "<style scoped>\n",
       "  .ansiout {\n",
       "    display: block;\n",
       "    unicode-bidi: embed;\n",
       "    white-space: pre-wrap;\n",
       "    word-wrap: break-word;\n",
       "    word-break: break-all;\n",
       "    font-family: \"Source Code Pro\", \"Menlo\", monospace;;\n",
       "    font-size: 13px;\n",
       "    color: #555;\n",
       "    margin-left: 4px;\n",
       "    line-height: 19px;\n",
       "  }\n",
       "</style>\n",
       "<div class=\"ansiout\">+------------+----------+------+------+-----+-----+------+------+-----+-----+------------------+------------------+------------------+------------------+------+------+-----+-----+\n",
       "COD_DISTRITO|COD_BARRIO|N_EspH|N_EspM|N_ExH|N_ExM|N_EspH|N_EspM|N_ExH|N_ExM|            N_EspH|            N_EspM|             N_ExH|             N_ExM|N_EspH|N_EspM|N_ExH|N_ExM|\n",
       "+------------+----------+------+------+-----+-----+------+------+-----+-----+------------------+------------------+------------------+------------------+------+------+-----+-----+\n",
       "          10|         2|    17|    20|   12|   12|     0|     0|    0|    0|4.1903314917127075| 4.897237569060773| 1.131767955801105|1.2853591160220994|  3620|  3620| 3620| 3620|\n",
       "           1|         2|    26|    28|   32|   18|     0|     0|    0|    0|4.7885829030407345| 4.780837636259323|2.3003442340791738| 1.640275387263339|  3486|  3486| 3486| 3486|\n",
       "          10|         4|    20|    33|   19|   21|     0|     0|    0|    0| 4.359958144401814| 5.192884548308336|0.9368678060690617| 1.091210324380886|  5734|  5734| 5734| 5734|\n",
       "           6|         2|    21|    27|   13|   19|     0|     0|    0|    0| 4.604115800488315|5.5730728985001745|0.8158353679804674|1.0606906173700732|  2867|  2867| 2867| 2867|\n",
       "           1|         5|    23|    20|   18|   17|     0|     0|    0|    0| 4.796175908221797| 4.830210325047801|1.5361376673040152|1.5449330783938815|  2615|  2615| 2615| 2615|\n",
       "          10|         7|    38|    38|    9|   10|     0|     0|    0|    0| 5.093558657849621| 5.894195444526083|0.7200587803085966|0.8503551310311046|  4083|  4083| 4083| 4083|\n",
       "           1|         1|    24|    19|   16|   16|     0|     0|    0|    0| 5.303185437997724| 5.473833902161547|1.3515358361774743|1.3196814562002275|  1758|  1758| 1758| 1758|\n",
       "          19|         1|    43|    44|   16|   17|     0|     0|    0|    0|5.1365554276946686| 5.565400843881856|1.4142692750287686|1.4380514000767166|  2607|  2607| 2607| 2607|\n",
       "           5|         4|    24|    28|    6|    6|     0|     0|    0|    0| 6.314435445450214| 7.595521676989042| 0.480705097665555|0.7103382563125298|  2099|  2099| 2099| 2099|\n",
       "          10|         3|    36|    40|   11|   11|     0|     0|    0|    0|4.8898662913441235| 5.578114004222378|1.1136523574947221|1.2586206896551724|  2842|  2842| 2842| 2842|\n",
       "           5|         2|    23|    26|   12|   11|     0|     0|    0|    0| 5.453689759036145| 6.699924698795181|0.6291415662650602|0.8185240963855421|  2656|  2656| 2656| 2656|\n",
       "           6|         6|    25|    22|   12|   20|     0|     0|    0|    0| 5.195808383233533|  6.25748502994012|1.5850299401197605| 2.109580838323353|  1670|  1670| 1670| 1670|\n",
       "           6|         1|    25|    22|   14|   18|     0|     0|    0|    0| 4.738504412447747| 5.552252670692058|1.4482117974918718|1.7538318625174176|  2153|  2153| 2153| 2153|\n",
       "          10|         1|    33|    34|   12|   11|     0|     0|    0|    0| 4.707216494845361| 5.310652920962199|0.9766323024054983|1.0604810996563574|  1455|  1455| 1455| 1455|\n",
       "           6|         3|    24|    23|   14|   15|     0|     0|    0|    0| 4.948035487959443| 5.937896070975919|0.8479087452471483| 1.190747782002535|  1578|  1578| 1578| 1578|\n",
       "          21|         1|    34|    42|    5|    6|     0|     0|    0|    0| 6.575018477457502| 7.061345158906135|0.3887657058388766|0.5188470066518847|  1353|  1353| 1353| 1353|\n",
       "           5|         5|    31|    37|    7|   11|     0|     0|    0|    0| 7.368345323741007| 8.578417266187051|0.5906474820143884|1.0661870503597122|  1390|  1390| 1390| 1390|\n",
       "           6|         4|    22|    28|    9|   13|     0|     0|    0|    0|  5.55205047318612|6.4063091482649845| 1.020820189274448|1.2864353312302839|  1585|  1585| 1585| 1585|\n",
       "          19|         2|    45|    44|   12|    7|     0|     0|    0|    0|  8.08421052631579|  8.90421052631579| 0.671578947368421|0.7105263157894737|   950|   950|  950|  950|\n",
       "           5|         6|    23|    25|   10|   14|     0|     0|    0|    0| 5.610460577673693| 6.402029664324746| 0.555815768930523| 0.765807962529274|  1281|  1281| 1281| 1281|\n",
       "+------------+----------+------+------+-----+-----+------+------+-----+-----+------------------+------------------+------------------+------------------+------+------+-----+-----+\n",
       "only showing top 20 rows\n",
       "\n",
       "</div>"
      ]
     },
     "metadata": {
      "application/vnd.databricks.v1+output": {
       "addedWidgets": {},
       "arguments": {},
       "data": "<div class=\"ansiout\">+------------+----------+------+------+-----+-----+------+------+-----+-----+------------------+------------------+------------------+------------------+------+------+-----+-----+\n|COD_DISTRITO|COD_BARRIO|N_EspH|N_EspM|N_ExH|N_ExM|N_EspH|N_EspM|N_ExH|N_ExM|            N_EspH|            N_EspM|             N_ExH|             N_ExM|N_EspH|N_EspM|N_ExH|N_ExM|\n+------------+----------+------+------+-----+-----+------+------+-----+-----+------------------+------------------+------------------+------------------+------+------+-----+-----+\n|          10|         2|    17|    20|   12|   12|     0|     0|    0|    0|4.1903314917127075| 4.897237569060773| 1.131767955801105|1.2853591160220994|  3620|  3620| 3620| 3620|\n|           1|         2|    26|    28|   32|   18|     0|     0|    0|    0|4.7885829030407345| 4.780837636259323|2.3003442340791738| 1.640275387263339|  3486|  3486| 3486| 3486|\n|          10|         4|    20|    33|   19|   21|     0|     0|    0|    0| 4.359958144401814| 5.192884548308336|0.9368678060690617| 1.091210324380886|  5734|  5734| 5734| 5734|\n|           6|         2|    21|    27|   13|   19|     0|     0|    0|    0| 4.604115800488315|5.5730728985001745|0.8158353679804674|1.0606906173700732|  2867|  2867| 2867| 2867|\n|           1|         5|    23|    20|   18|   17|     0|     0|    0|    0| 4.796175908221797| 4.830210325047801|1.5361376673040152|1.5449330783938815|  2615|  2615| 2615| 2615|\n|          10|         7|    38|    38|    9|   10|     0|     0|    0|    0| 5.093558657849621| 5.894195444526083|0.7200587803085966|0.8503551310311046|  4083|  4083| 4083| 4083|\n|           1|         1|    24|    19|   16|   16|     0|     0|    0|    0| 5.303185437997724| 5.473833902161547|1.3515358361774743|1.3196814562002275|  1758|  1758| 1758| 1758|\n|          19|         1|    43|    44|   16|   17|     0|     0|    0|    0|5.1365554276946686| 5.565400843881856|1.4142692750287686|1.4380514000767166|  2607|  2607| 2607| 2607|\n|           5|         4|    24|    28|    6|    6|     0|     0|    0|    0| 6.314435445450214| 7.595521676989042| 0.480705097665555|0.7103382563125298|  2099|  2099| 2099| 2099|\n|          10|         3|    36|    40|   11|   11|     0|     0|    0|    0|4.8898662913441235| 5.578114004222378|1.1136523574947221|1.2586206896551724|  2842|  2842| 2842| 2842|\n|           5|         2|    23|    26|   12|   11|     0|     0|    0|    0| 5.453689759036145| 6.699924698795181|0.6291415662650602|0.8185240963855421|  2656|  2656| 2656| 2656|\n|           6|         6|    25|    22|   12|   20|     0|     0|    0|    0| 5.195808383233533|  6.25748502994012|1.5850299401197605| 2.109580838323353|  1670|  1670| 1670| 1670|\n|           6|         1|    25|    22|   14|   18|     0|     0|    0|    0| 4.738504412447747| 5.552252670692058|1.4482117974918718|1.7538318625174176|  2153|  2153| 2153| 2153|\n|          10|         1|    33|    34|   12|   11|     0|     0|    0|    0| 4.707216494845361| 5.310652920962199|0.9766323024054983|1.0604810996563574|  1455|  1455| 1455| 1455|\n|           6|         3|    24|    23|   14|   15|     0|     0|    0|    0| 4.948035487959443| 5.937896070975919|0.8479087452471483| 1.190747782002535|  1578|  1578| 1578| 1578|\n|          21|         1|    34|    42|    5|    6|     0|     0|    0|    0| 6.575018477457502| 7.061345158906135|0.3887657058388766|0.5188470066518847|  1353|  1353| 1353| 1353|\n|           5|         5|    31|    37|    7|   11|     0|     0|    0|    0| 7.368345323741007| 8.578417266187051|0.5906474820143884|1.0661870503597122|  1390|  1390| 1390| 1390|\n|           6|         4|    22|    28|    9|   13|     0|     0|    0|    0|  5.55205047318612|6.4063091482649845| 1.020820189274448|1.2864353312302839|  1585|  1585| 1585| 1585|\n|          19|         2|    45|    44|   12|    7|     0|     0|    0|    0|  8.08421052631579|  8.90421052631579| 0.671578947368421|0.7105263157894737|   950|   950|  950|  950|\n|           5|         6|    23|    25|   10|   14|     0|     0|    0|    0| 5.610460577673693| 6.402029664324746| 0.555815768930523| 0.765807962529274|  1281|  1281| 1281| 1281|\n+------------+----------+------+------+-----+-----+------+------+-----+-----+------------------+------------------+------------------+------------------+------+------+-----+-----+\nonly showing top 20 rows\n\n</div>",
       "datasetInfos": [],
       "metadata": {},
       "removedWidgets": [],
       "type": "html"
      }
     },
     "output_type": "display_data"
    }
   ],
   "source": [
    "spark.sql(\"\"\"SELECT COD_DISTRITO, COD_BARRIO, \n",
    "max(EspanolesHombres) as N_EspH, max(EspanolesMujeres) as N_EspM, max(ExtranjerosHombres) as N_ExH, max(ExtranjerosMujeres) as N_ExM,\n",
    "min(EspanolesHombres) as N_EspH, min(EspanolesMujeres) as N_EspM, min(ExtranjerosHombres) as N_ExH, min(ExtranjerosMujeres) as N_ExM,\n",
    "avg(EspanolesHombres) as N_EspH, avg(EspanolesMujeres) as N_EspM, avg(ExtranjerosHombres) as N_ExH, avg(ExtranjerosMujeres) as N_ExM,\n",
    "count(EspanolesHombres) as N_EspH, count(EspanolesMujeres) as N_EspM, count(ExtranjerosHombres) as N_ExH, count(ExtranjerosMujeres) as N_ExM\n",
    "FROM padron_particionado\n",
    "WHERE COD_DISTRITO IN (1, 5, 10, 19, 6, 21)\n",
    "GROUP BY COD_DISTRITO, COD_BARRIO; \"\"\").show()"
   ]
  }
 ],
 "metadata": {
  "application/vnd.databricks.v1+notebook": {
   "dashboards": [],
   "language": "python",
   "notebookMetadata": {
    "pythonIndentUnit": 2
   },
   "notebookName": "Practica_padron",
   "notebookOrigID": 1273766355040044,
   "widgets": {}
  },
  "kernelspec": {
   "display_name": "Python 3",
   "language": "python",
   "name": "python3"
  },
  "language_info": {
   "codemirror_mode": {
    "name": "ipython",
    "version": 3
   },
   "file_extension": ".py",
   "mimetype": "text/x-python",
   "name": "python",
   "nbconvert_exporter": "python",
   "pygments_lexer": "ipython3",
   "version": "3.8.8"
  }
 },
 "nbformat": 4,
 "nbformat_minor": 1
}
